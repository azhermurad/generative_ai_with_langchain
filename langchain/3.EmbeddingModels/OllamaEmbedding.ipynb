{
 "cells": [
  {
   "cell_type": "markdown",
   "id": "67d9785a",
   "metadata": {},
   "source": [
    "## Ollama Embedding"
   ]
  },
  {
   "cell_type": "code",
   "execution_count": 1,
   "id": "2f6524d8",
   "metadata": {},
   "outputs": [],
   "source": [
    "# <!-- gemma3:1b -->\n",
    "# ollama run gemma3:1b\n",
    "\n",
    "from langchain_ollama  import OllamaEmbeddings\n",
    "embeddings = OllamaEmbeddings(\n",
    "   model=\"llama3.2:1b\",\n",
    ")"
   ]
  },
  {
   "cell_type": "code",
   "execution_count": 5,
   "id": "97c80d9c",
   "metadata": {},
   "outputs": [
    {
     "data": {
      "text/plain": [
       "2048"
      ]
     },
     "execution_count": 5,
     "metadata": {},
     "output_type": "execute_result"
    }
   ],
   "source": [
    "text2 = (\n",
    "    \"LangGraph is a library for building stateful, multi-actor applications with LLMs\"\n",
    ")\n",
    "embedding_shape = embeddings.embed_query(text2)\n",
    "len(embedding_shape)"
   ]
  },
  {
   "cell_type": "code",
   "execution_count": 7,
   "id": "08bd9a20",
   "metadata": {},
   "outputs": [],
   "source": [
    "from langchain_core.vectorstores import InMemoryVectorStore\n",
    "\n",
    "text = \"LangChain is the framework for building context-aware reasoning applications\"\n",
    "\n",
    "vectorstore = InMemoryVectorStore(\n",
    "    embedding=embeddings,\n",
    ")"
   ]
  },
  {
   "cell_type": "code",
   "execution_count": 8,
   "id": "d754cc75",
   "metadata": {},
   "outputs": [
    {
     "data": {
      "text/plain": [
       "['3eba75d7-0d02-4538-a00b-4069b4756a2d']"
      ]
     },
     "execution_count": 8,
     "metadata": {},
     "output_type": "execute_result"
    }
   ],
   "source": [
    "vectorstore.add_texts([text])"
   ]
  },
  {
   "cell_type": "code",
   "execution_count": 10,
   "id": "9a6f9c93",
   "metadata": {},
   "outputs": [],
   "source": [
    "#  Use the vectorstore as a retriever\n",
    "retriever = vectorstore.as_retriever()"
   ]
  },
  {
   "cell_type": "code",
   "execution_count": 11,
   "id": "8ba8f3d4",
   "metadata": {},
   "outputs": [
    {
     "data": {
      "text/plain": [
       "[Document(id='3eba75d7-0d02-4538-a00b-4069b4756a2d', metadata={}, page_content='LangChain is the framework for building context-aware reasoning applications')]"
      ]
     },
     "execution_count": 11,
     "metadata": {},
     "output_type": "execute_result"
    }
   ],
   "source": [
    "retriever.invoke(\"langchain\")"
   ]
  },
  {
   "cell_type": "code",
   "execution_count": null,
   "id": "2a68e918",
   "metadata": {},
   "outputs": [],
   "source": []
  }
 ],
 "metadata": {
  "kernelspec": {
   "display_name": "venv",
   "language": "python",
   "name": "python3"
  },
  "language_info": {
   "codemirror_mode": {
    "name": "ipython",
    "version": 3
   },
   "file_extension": ".py",
   "mimetype": "text/x-python",
   "name": "python",
   "nbconvert_exporter": "python",
   "pygments_lexer": "ipython3",
   "version": "3.12.4"
  }
 },
 "nbformat": 4,
 "nbformat_minor": 5
}
