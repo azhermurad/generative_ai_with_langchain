{
 "cells": [
  {
   "cell_type": "code",
   "execution_count": 1,
   "id": "7b4f973d",
   "metadata": {},
   "outputs": [
    {
     "name": "stderr",
     "output_type": "stream",
     "text": [
      "USER_AGENT environment variable not set, consider setting it to identify your requests.\n"
     ]
    },
    {
     "name": "stdout",
     "output_type": "stream",
     "text": [
      "content=\"میں پروگرامننگ پسند کرتا ہوں  (Main programming pasand karta hoon) \\n\\n\\nLet me know if you'd like me to translate anything else!  😊 \\n\" additional_kwargs={} response_metadata={'token_usage': {'completion_tokens': 45, 'prompt_tokens': 29, 'total_tokens': 74, 'completion_time': 0.081818182, 'prompt_time': 0.001407539, 'queue_time': 0.24422607999999998, 'total_time': 0.083225721}, 'model_name': 'gemma2-9b-it', 'system_fingerprint': 'fp_10c08bf97d', 'service_tier': 'on_demand', 'finish_reason': 'stop', 'logprobs': None} id='run--d9d2a64c-00c4-4fea-8140-2e9fcd446aaa-0' usage_metadata={'input_tokens': 29, 'output_tokens': 45, 'total_tokens': 74}\n"
     ]
    }
   ],
   "source": [
    "import os\n",
    "from langchain_google_genai import ChatGoogleGenerativeAI\n",
    "from langchain_text_splitters import RecursiveCharacterTextSplitter\n",
    "from langchain_google_genai import GoogleGenerativeAIEmbeddings\n",
    "from langchain_community.document_loaders import WebBaseLoader\n",
    "import faiss\n",
    "from langchain_community.docstore.in_memory import InMemoryDocstore\n",
    "from langchain_community.vectorstores import FAISS\n",
    "\n",
    "from langchain_groq import ChatGroq\n",
    "\n",
    "from dotenv import load_dotenv\n",
    "load_dotenv()\n",
    "\n",
    "\n",
    "\n",
    "# loading env varables\n",
    "os.environ[\"GROQ_API_KEY\"] = os.getenv(\"GROQ_API_KEY\")\n",
    "os.environ[\"LANGSMITH_TRACING\"] = os.getenv(\"LANGSMITH_TRACING\")\n",
    "os.environ[\"LANGSMITH_PROJECT\"] = os.getenv(\"LANGSMITH_PROJECT\")\n",
    "os.environ[\"LANGSMITH_API_KEY\"] = os.getenv(\"LANGSMITH_API_KEY\")\n",
    "\n",
    "\n",
    "messages = [\n",
    "    (\n",
    "        \"system\",\n",
    "        \"You are a helpful assistant that translates English to Urdu. Translate the user sentence.\",\n",
    "    ),\n",
    "    (\"human\", \"I love programming.\"),\n",
    "]\n",
    "\n",
    "llm = ChatGroq(\n",
    "    model=\"gemma2-9b-it\",\n",
    ")\n",
    "\n",
    "ai_msg = llm.invoke(messages)\n",
    "\n",
    "print(ai_msg)\n"
   ]
  },
  {
   "cell_type": "code",
   "execution_count": 2,
   "id": "6fae83af",
   "metadata": {},
   "outputs": [
    {
     "name": "stdout",
     "output_type": "stream",
     "text": [
      "मुझे پروگرامنگ پسند ہے۔ \n",
      "\n",
      "(Mujhey programaang pasand hai.)  \n",
      "\n",
      "\n",
      "Let me know if you have any other sentences you'd like translated! 😊 \n",
      "\n"
     ]
    }
   ],
   "source": [
    "print(ai_msg.content)\n"
   ]
  },
  {
   "cell_type": "code",
   "execution_count": 35,
   "id": "5a895ad2",
   "metadata": {},
   "outputs": [],
   "source": [
    "from langchain_core.messages import HumanMessage,SystemMessage\n",
    "from langchain_core.prompts import ChatPromptTemplate\n",
    "from langchain_core.output_parsers import StrOutputParser\n",
    "\n",
    "\n",
    "messages  = [\n",
    "    SystemMessage(content=\"You are a helpful assistant that translates English to Urdu. Translate the user sentence.\"),\n",
    "    HumanMessage(content=\"what is programming?\")\n",
    "] "
   ]
  },
  {
   "cell_type": "code",
   "execution_count": 32,
   "id": "477289f7",
   "metadata": {},
   "outputs": [],
   "source": [
    "result = llm.invoke(messages)"
   ]
  },
  {
   "cell_type": "code",
   "execution_count": 37,
   "id": "b2684339",
   "metadata": {},
   "outputs": [
    {
     "name": "stdout",
     "output_type": "stream",
     "text": [
      "What is programming?  in Urdu is:\n",
      "\n",
      "**\"پروگرامنگ کیا ہے؟\"** \n",
      "\n",
      "\n",
      "Let me know if you have any other sentences you'd like me to translate! 😊\n",
      "\n"
     ]
    }
   ],
   "source": [
    "parser = StrOutputParser()\n",
    "print(parser.invoke(result))\n"
   ]
  },
  {
   "cell_type": "code",
   "execution_count": 42,
   "id": "e03ac6d0",
   "metadata": {},
   "outputs": [
    {
     "name": "stdout",
     "output_type": "stream",
     "text": [
      "''پروگرامنگ کیا ہے؟'' \n",
      "\n"
     ]
    }
   ],
   "source": [
    "# now we have to components we can make a chain for this \n",
    "\n",
    "chain = llm | parser\n",
    "\n",
    "print(chain.invoke(messages))\n",
    "\n",
    "# print(chain.get_graph().draw_ascii())"
   ]
  },
  {
   "cell_type": "code",
   "execution_count": null,
   "id": "6181962f",
   "metadata": {},
   "outputs": [],
   "source": [
    "# \n",
    "\n",
    "# prompt = ChatPromptTemplate.from_messages([\n",
    "#     (\"system\",\"You are a helpful assistant that translates following sentence to {urdu}. Translate the user sentence.\"),\n",
    "#     (\"human\",\"{text}\")\n",
    "# ])"
   ]
  },
  {
   "cell_type": "code",
   "execution_count": 82,
   "id": "1782c7c3",
   "metadata": {},
   "outputs": [
    {
     "data": {
      "text/plain": [
       "ChatPromptValue(messages=[SystemMessage(content='Translate the following sentence to urdu:', additional_kwargs={}, response_metadata={}), HumanMessage(content=\"what's your name?\", additional_kwargs={}, response_metadata={})])"
      ]
     },
     "execution_count": 82,
     "metadata": {},
     "output_type": "execute_result"
    }
   ],
   "source": [
    "prompt = ChatPromptTemplate.from_messages([\n",
    "    (\"system\",\"Translate the following sentence to {language}:\"),\n",
    "    (\"user\",\"{text}\")\n",
    "])\n",
    "\n",
    "prompt.invoke({\"language\":\"urdu\",\"text\":\"what's your name?\"})"
   ]
  },
  {
   "cell_type": "code",
   "execution_count": 83,
   "id": "6dc66fdb",
   "metadata": {},
   "outputs": [
    {
     "name": "stdout",
     "output_type": "stream",
     "text": [
      "آپ کا نام کیا ہے؟ (aap ka naam kya hai?) \n",
      "\n",
      "\n",
      "This is the most common and formal way to ask \"What's your name?\" in Urdu. \n",
      "\n"
     ]
    }
   ],
   "source": [
    "chain =prompt |  llm | parser\n",
    "\n",
    "print(chain.invoke({\"language\":\"urdu\",\"text\":\"what's your name?\"}))"
   ]
  },
  {
   "cell_type": "code",
   "execution_count": null,
   "id": "c72b3f10",
   "metadata": {},
   "outputs": [],
   "source": []
  }
 ],
 "metadata": {
  "kernelspec": {
   "display_name": "venv",
   "language": "python",
   "name": "python3"
  },
  "language_info": {
   "codemirror_mode": {
    "name": "ipython",
    "version": 3
   },
   "file_extension": ".py",
   "mimetype": "text/x-python",
   "name": "python",
   "nbconvert_exporter": "python",
   "pygments_lexer": "ipython3",
   "version": "3.12.4"
  }
 },
 "nbformat": 4,
 "nbformat_minor": 5
}
