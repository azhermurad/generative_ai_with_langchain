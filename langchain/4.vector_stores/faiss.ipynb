{
 "cells": [
  {
   "cell_type": "markdown",
   "id": "44ba1527",
   "metadata": {},
   "source": [
    "## Vector stores\n",
    "\n",
    "Vector stores are specialized data stores that enable indexing and retrieving information based on vector representations.\n",
    "\n",
    "These vectors, called embeddings, capture the semantic meaning of data that has been embedded.\n",
    "\n",
    "Vector stores are frequently used to search over unstructured data, such as text, images, and audio, to retrieve relevant information based on semantic similarity rather than exact keyword matches.\n",
    "\n",
    "<img src=\"https://python.langchain.com/assets/images/vectorstores-2540b4bc355b966c99b0f02cfdddb273.png\" width=\"700px\" height=\"400px\"/>\n",
    "\n",
    "\n",
    "LangChain provides a standard interface for working with vector stores, allowing users to easily switch between different vectorstore implementations.\n",
    "\n",
    "The interface consists of basic methods for writing, deleting and searching for documents in the vector store.\n",
    "\n",
    "The key methods are:\n",
    "\n",
    "+ `add_documents`: Add a list of texts to the vector store.\n",
    "+ `delete`: Delete a list of documents from the vector store.\n",
    "+ `similarity_search`: Search for similar documents to a given query."
   ]
  },
  {
   "cell_type": "code",
   "execution_count": null,
   "id": "2ae053a2",
   "metadata": {},
   "outputs": [
    {
     "data": {
      "text/plain": [
       "384"
      ]
     },
     "metadata": {},
     "output_type": "display_data"
    }
   ],
   "source": []
  }
 ],
 "metadata": {
  "language_info": {
   "name": "python"
  }
 },
 "nbformat": 4,
 "nbformat_minor": 5
}
