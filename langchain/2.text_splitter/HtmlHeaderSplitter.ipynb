{
 "cells": [
  {
   "cell_type": "markdown",
   "id": "aa75d94e",
   "metadata": {},
   "source": [
    "## Using HTMLHeaderTextSplitter"
   ]
  },
  {
   "cell_type": "code",
   "execution_count": 2,
   "id": "17faaee2",
   "metadata": {},
   "outputs": [],
   "source": [
    "html_string = \"\"\"\n",
    "<!DOCTYPE html>\n",
    "  <html lang='en'>\n",
    "  <head>\n",
    "    <meta charset='UTF-8'>\n",
    "    <meta name='viewport' content='width=device-width, initial-scale=1.0'>\n",
    "    <title>Fancy Example HTML Page</title>\n",
    "  </head>\n",
    "  <body>\n",
    "    <h1>Main Title</h1>\n",
    "    <p>This is an introductory paragraph with some basic content.</p>\n",
    "    \n",
    "    <h2>Section 1: Introduction</h2>\n",
    "    <p>This section introduces the topic. Below is a list:</p>\n",
    "    <ul>\n",
    "      <li>First item</li>\n",
    "      <li>Second item</li>\n",
    "      <li>Third item with <strong>bold text</strong> and <a href='#'>a link</a></li>\n",
    "    </ul>\n",
    "    \n",
    "    <h3>Subsection 1.1: Details</h3>\n",
    "    <p>This subsection provides additional details. Here's a table:</p>\n",
    "    <table border='1'>\n",
    "      <thead>\n",
    "        <tr>\n",
    "          <th>Header 1</th>\n",
    "          <th>Header 2</th>\n",
    "          <th>Header 3</th>\n",
    "        </tr>\n",
    "      </thead>\n",
    "      <tbody>\n",
    "        <tr>\n",
    "          <td>Row 1, Cell 1</td>\n",
    "          <td>Row 1, Cell 2</td>\n",
    "          <td>Row 1, Cell 3</td>\n",
    "        </tr>\n",
    "        <tr>\n",
    "          <td>Row 2, Cell 1</td>\n",
    "          <td>Row 2, Cell 2</td>\n",
    "          <td>Row 2, Cell 3</td>\n",
    "        </tr>\n",
    "      </tbody>\n",
    "    </table>\n",
    "    \n",
    "    <h2>Section 2: Media Content</h2>\n",
    "    <p>This section contains an image and a video:</p>\n",
    "      <img src='example_image_link.mp4' alt='Example Image'>\n",
    "      <video controls width='250' src='example_video_link.mp4' type='video/mp4'>\n",
    "      Your browser does not support the video tag.\n",
    "    </video>\n",
    "\n",
    "    <h2>Section 3: Code Example</h2>\n",
    "    <p>This section contains a code block:</p>\n",
    "    <pre><code data-lang=\"html\">\n",
    "    &lt;div&gt;\n",
    "      &lt;p&gt;This is a paragraph inside a div.&lt;/p&gt;\n",
    "    &lt;/div&gt;\n",
    "    </code></pre>\n",
    "\n",
    "    <h2>Conclusion</h2>\n",
    "    <p>This is the conclusion of the document.</p>\n",
    "  </body>\n",
    "  </html>\n",
    "\"\"\""
   ]
  },
  {
   "cell_type": "code",
   "execution_count": null,
   "id": "bad1ae61",
   "metadata": {},
   "outputs": [
    {
     "data": {
      "text/plain": [
       "[Document(metadata={'h1': 'Main Title'}, page_content='Main Title'),\n",
       " Document(metadata={'h1': 'Main Title'}, page_content='This is an introductory paragraph with some basic content.'),\n",
       " Document(metadata={'h1': 'Main Title', 'h2': 'Section 1: Introduction'}, page_content='Section 1: Introduction'),\n",
       " Document(metadata={'h1': 'Main Title', 'h2': 'Section 1: Introduction'}, page_content='This section introduces the topic. Below is a list:  \\nFirst item  \\nSecond item  \\nThird item with and  \\nbold text  \\na link'),\n",
       " Document(metadata={'h1': 'Main Title', 'h2': 'Section 1: Introduction', 'h3': 'Subsection 1.1: Details'}, page_content='Subsection 1.1: Details'),\n",
       " Document(metadata={'h1': 'Main Title', 'h2': 'Section 1: Introduction', 'h3': 'Subsection 1.1: Details'}, page_content=\"This subsection provides additional details. Here's a table:  \\nHeader 1  \\nHeader 2  \\nHeader 3  \\nRow 1, Cell 1  \\nRow 1, Cell 2  \\nRow 1, Cell 3  \\nRow 2, Cell 1  \\nRow 2, Cell 2  \\nRow 2, Cell 3\"),\n",
       " Document(metadata={'h1': 'Main Title', 'h2': 'Section 2: Media Content'}, page_content='Section 2: Media Content'),\n",
       " Document(metadata={'h1': 'Main Title', 'h2': 'Section 2: Media Content'}, page_content='This section contains an image and a video:  \\nYour browser does not support the video tag.'),\n",
       " Document(metadata={'h1': 'Main Title', 'h2': 'Section 3: Code Example'}, page_content='Section 3: Code Example'),\n",
       " Document(metadata={'h1': 'Main Title', 'h2': 'Section 3: Code Example'}, page_content='This section contains a code block:  \\n<div>\\n      <p>This is a paragraph inside a div.</p>\\n    </div>'),\n",
       " Document(metadata={'h1': 'Main Title', 'h2': 'Conclusion'}, page_content='Conclusion'),\n",
       " Document(metadata={'h1': 'Main Title', 'h2': 'Conclusion'}, page_content='This is the conclusion of the document.')]"
      ]
     },
     "execution_count": 14,
     "metadata": {},
     "output_type": "execute_result"
    }
   ],
   "source": [
    "from langchain_text_splitters import HTMLHeaderTextSplitter\n",
    "\n",
    "header_to_split_on = [\n",
    "    (\"h1\",\"h1\"),\n",
    "    (\"h2\",\"h2\"),\n",
    "    (\"h3\",\"h3\")\n",
    "]\n",
    "\n",
    "html_splitter = HTMLHeaderTextSplitter(header_to_split_on)\n",
    "texts = html_splitter.split_text(html_string)\n",
    "texts\n",
    "\n",
    "# <h1>Main Title</h1>\n",
    "# <p>This is an introductory paragraph with some basic content.</p>\n",
    "\n",
    "\n",
    "# heading 2\n",
    "# <h2>Section 1: Introduction</h2>\n",
    "#     <p>This section introduces the topic. Below is a list:</p>\n",
    "#     <ul>\n",
    "#       <li>First item</li>\n",
    "#       <li>Second item</li>\n",
    "#       <li>Third item with <strong>bold text</strong> and <a href='#'>a link</a></li>\n",
    "#     </ul>\n",
    "\n"
   ]
  },
  {
   "cell_type": "code",
   "execution_count": null,
   "id": "874dbca1",
   "metadata": {},
   "outputs": [],
   "source": []
  },
  {
   "cell_type": "markdown",
   "id": "62b9fd7e",
   "metadata": {},
   "source": [
    "## Splitting HTMLHeaderTextSplitter from url\n"
   ]
  },
  {
   "cell_type": "code",
   "execution_count": 18,
   "id": "ffc6183d",
   "metadata": {},
   "outputs": [],
   "source": [
    "url = \"https://plato.stanford.edu/entries/goedel/\"\n",
    "\n",
    "from langchain_text_splitters import HTMLHeaderTextSplitter\n",
    "\n",
    "header_to_split_on = [\n",
    "    (\"h1\",\"h1\"),\n",
    "    (\"h2\",\"h2\"),\n",
    "    (\"h3\",\"h3\")\n",
    "]\n",
    "\n",
    "html_splitter = HTMLHeaderTextSplitter(header_to_split_on)\n",
    "\n",
    "texts = html_splitter.split_text_from_url(url)\n",
    "\n"
   ]
  },
  {
   "cell_type": "code",
   "execution_count": null,
   "id": "a5b0487a",
   "metadata": {},
   "outputs": [],
   "source": []
  },
  {
   "cell_type": "code",
   "execution_count": null,
   "id": "9489dba6",
   "metadata": {},
   "outputs": [],
   "source": []
  }
 ],
 "metadata": {
  "kernelspec": {
   "display_name": "venv",
   "language": "python",
   "name": "python3"
  },
  "language_info": {
   "codemirror_mode": {
    "name": "ipython",
    "version": 3
   },
   "file_extension": ".py",
   "mimetype": "text/x-python",
   "name": "python",
   "nbconvert_exporter": "python",
   "pygments_lexer": "ipython3",
   "version": "3.12.4"
  }
 },
 "nbformat": 4,
 "nbformat_minor": 5
}
