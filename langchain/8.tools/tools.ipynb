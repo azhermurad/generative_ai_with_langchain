{
 "cells": [
  {
   "cell_type": "markdown",
   "id": "5b5ec190",
   "metadata": {},
   "source": [
    "### Tools\n",
    "\n",
    "Key concepts\n",
    "+ Tools are a way to encapsulate a function and its schema in a way that can be passed to a chat model.\n",
    "\n",
    "Create tools using the @tool decorator, which simplifies the process of tool creation, supporting the following:\n",
    "\n",
    "Automatically infer the tool's name, description and expected arguments, while also supporting customization.\n",
    "\n",
    "Defining tools that return artifacts (e.g. images, dataframes, etc.)\n",
    "\n",
    "Hiding input arguments from the schema (and hence from the model) using injected tool arguments.\n",
    "\n"
   ]
  },
  {
   "cell_type": "markdown",
   "id": "d190b131",
   "metadata": {},
   "source": [
    "<!-- The key attributes that correspond to the tool's schema:\n",
    "1-name: The name of the tool.\n",
    "2-description: A description of what the tool does.\n",
    "3-args: Property that returns the JSON schema for the tool's arguments. -->\n",
    "\n"
   ]
  },
  {
   "cell_type": "markdown",
   "id": "7dd5f2dd",
   "metadata": {},
   "source": [
    "### Create tools using the @tool decorator"
   ]
  },
  {
   "cell_type": "code",
   "execution_count": 1,
   "id": "d0079ec6",
   "metadata": {},
   "outputs": [],
   "source": [
    "from langchain_core.tools import tool\n",
    "\n",
    "@tool\n",
    "def add(a:int,b:int)-> int:\n",
    "    \"\"\"\"Add two numbers\"\"\"\n",
    "    return a + b"
   ]
  },
  {
   "cell_type": "code",
   "execution_count": 2,
   "id": "2f414e92",
   "metadata": {},
   "outputs": [
    {
     "data": {
      "text/plain": [
       "5"
      ]
     },
     "execution_count": 2,
     "metadata": {},
     "output_type": "execute_result"
    }
   ],
   "source": [
    "add.invoke({\n",
    "    \"a\":2,\n",
    "    \"b\":3\n",
    "})"
   ]
  },
  {
   "cell_type": "code",
   "execution_count": 3,
   "id": "81c6572a",
   "metadata": {},
   "outputs": [
    {
     "name": "stdout",
     "output_type": "stream",
     "text": [
      "add\n",
      "\"Add two numbers\n",
      "{'a': {'title': 'A', 'type': 'integer'}, 'b': {'title': 'B', 'type': 'integer'}}\n"
     ]
    }
   ],
   "source": [
    "print(add.name)\n",
    "print(add.description)\n",
    "print(add.args)"
   ]
  },
  {
   "cell_type": "markdown",
   "id": "026b589a",
   "metadata": {},
   "source": [
    "### 2 -DuckDuckGo Search Prebuild tools in langchain\n",
    "This guide shows over how to use the DuckDuckGo search component."
   ]
  },
  {
   "cell_type": "code",
   "execution_count": 4,
   "id": "b0857517",
   "metadata": {},
   "outputs": [
    {
     "name": "stderr",
     "output_type": "stream",
     "text": [
      "/home/jamxt/Desktop/advancepython/GenAI_With_Langchain/venv/lib/python3.12/site-packages/langchain_community/utilities/duckduckgo_search.py:63: RuntimeWarning: This package (`duckduckgo_search`) has been renamed to `ddgs`! Use `pip install ddgs` instead.\n",
      "  with DDGS() as ddgs:\n"
     ]
    },
    {
     "data": {
      "text/plain": [
       "[{'snippet': '贝拉克·侯赛因·奥巴马（Barack Hussein Obama），1961年8月4日出生于美国夏威夷州檀香山，美国民主党籍政治家，第44任美国总统，美国历史上第一位非洲裔总统。',\n",
       "  'title': '贝拉克·侯赛因·奥巴马 - 知乎',\n",
       "  'link': 'https://www.zhihu.com/topic/19585074/intro'},\n",
       " {'snippet': '美国第44任总统奥巴马的全称是 巴拉克·侯赛因·奥巴马 二世（Barack Hussein Obama II）。称其为二世，是为了与和他姓名完全相同的父亲（巴拉克·侯赛因·奥巴马一世）相区别。在西方许 …',\n",
       "  'title': '奥巴马的中间名为何叫侯赛因？ - 知乎',\n",
       "  'link': 'https://www.zhihu.com/question/20733642'},\n",
       " {'snippet': '出镜率太高，而且打破了卸任总统的潜规则。 按以往的惯例，美国卸任总统应少在公众面前出镜，如非必要，不应太多干预当前政治。 你可以捞钱、可以走穴、可以写回忆录，不嫌丢人的 …',\n",
       "  'title': '怎样评价奥巴马？ - 知乎',\n",
       "  'link': 'https://www.zhihu.com/question/54942704'},\n",
       " {'snippet': 'Sep 30, 2021 · 这是奥巴马2004年在民主党全国代表大会上竞选联邦参议员的主题演讲——《无畏的希望》（Audacity of Hope）。 这篇慷慨激昂的演讲让奥巴马一举成名，成为全美知名的政 …',\n",
       "  'title': '奥巴马的成名演讲：《无畏的希望》。 非常值得一听 ...',\n",
       "  'link': 'https://www.zhihu.com/zvideo/1426695736242769920'}]"
      ]
     },
     "execution_count": 4,
     "metadata": {},
     "output_type": "execute_result"
    }
   ],
   "source": [
    "from langchain_community.tools import DuckDuckGoSearchRun,DuckDuckGoSearchResults\n",
    "\n",
    "search = DuckDuckGoSearchResults(output_format=\"list\")\n",
    "search.invoke(\"Obama\")\n",
    "\n"
   ]
  },
  {
   "cell_type": "code",
   "execution_count": 5,
   "id": "6876d69c",
   "metadata": {},
   "outputs": [],
   "source": [
    "# !pip install -U duckduckgo-search"
   ]
  },
  {
   "cell_type": "code",
   "execution_count": 6,
   "id": "3d57b564",
   "metadata": {},
   "outputs": [],
   "source": [
    "from langchain_core.tools import tool\n",
    "\n",
    "# add tool\n",
    "@tool\n",
    "def add(a: int, b: int) -> int:\n",
    "    \"\"\"Add two integers.\n",
    "\n",
    "    Args:\n",
    "        a: First integer\n",
    "        b: Second integer\n",
    "    \"\"\"\n",
    "    return a + b\n",
    "\n",
    "@tool\n",
    "def multiply(a: int, b: int) -> int:\n",
    "    \"\"\"Multiply two integers.\n",
    "\n",
    "    Args:\n",
    "        a: First integer\n",
    "        b: Second integer\n",
    "    \"\"\"\n",
    "    return a * b"
   ]
  },
  {
   "cell_type": "code",
   "execution_count": 7,
   "id": "aa647aef",
   "metadata": {},
   "outputs": [],
   "source": [
    "import os\n",
    "from langchain_groq import ChatGroq\n",
    "from langchain_google_genai import ChatGoogleGenerativeAI\n",
    "\n",
    "\n",
    "# loading env varables\n",
    "from dotenv import load_dotenv\n",
    "load_dotenv()\n",
    "os.environ[\"GROQ_API_KEY\"] = os.getenv(\"GROQ_API_KEY\")\n",
    "os.environ[\"GOOGLE_API_KEY\"] = os.getenv(\"GOOGLE_API_KEY\")\n",
    "\n",
    "# create the chatllm \n",
    "\n",
    "llm = ChatGoogleGenerativeAI(\n",
    "    model=\"gemini-2.0-flash\",\n",
    ")\n",
    "tools = [add, multiply]\n",
    "\n",
    "\n"
   ]
  },
  {
   "cell_type": "code",
   "execution_count": 8,
   "id": "9ef4cb22",
   "metadata": {},
   "outputs": [],
   "source": [
    "llm_with_tools= llm.bind_tools(tools)"
   ]
  },
  {
   "cell_type": "code",
   "execution_count": 9,
   "id": "b6ace195",
   "metadata": {},
   "outputs": [],
   "source": [
    "from langchain_core.messages import HumanMessage\n"
   ]
  },
  {
   "cell_type": "code",
   "execution_count": 22,
   "id": "3980b403",
   "metadata": {},
   "outputs": [
    {
     "name": "stdout",
     "output_type": "stream",
     "text": [
      "[{'name': 'multiply', 'args': {'a': 3.0, 'b': 12.0}, 'id': 'dea30842-fd64-4c63-9a87-368eeae77ba5', 'type': 'tool_call'}, {'name': 'add', 'args': {'a': 11.0, 'b': 49.0}, 'id': '51d70eb9-efc4-479a-855a-8fd27aaa9ab8', 'type': 'tool_call'}]\n"
     ]
    }
   ],
   "source": [
    "\n",
    "query = \"What is 3 * 12? Also, what is 11 + 49?\"\n",
    "\n",
    "messages = [HumanMessage(query)]\n",
    "ai_msg = llm_with_tools.invoke(messages)\n",
    "messages.append(ai_msg)\n",
    "\n",
    "print(ai_msg.tool_calls)"
   ]
  },
  {
   "cell_type": "code",
   "execution_count": 23,
   "id": "353b1dce",
   "metadata": {},
   "outputs": [
    {
     "data": {
      "text/plain": [
       "[HumanMessage(content='What is 3 * 12? Also, what is 11 + 49?', additional_kwargs={}, response_metadata={}),\n",
       " AIMessage(content='', additional_kwargs={'function_call': {'name': 'add', 'arguments': '{\"a\": 11.0, \"b\": 49.0}'}}, response_metadata={'prompt_feedback': {'block_reason': 0, 'safety_ratings': []}, 'finish_reason': 'STOP', 'model_name': 'gemini-2.0-flash', 'safety_ratings': []}, id='run--fcbfc647-56c0-409b-820d-12c6186773b8-0', tool_calls=[{'name': 'multiply', 'args': {'a': 3.0, 'b': 12.0}, 'id': 'dea30842-fd64-4c63-9a87-368eeae77ba5', 'type': 'tool_call'}, {'name': 'add', 'args': {'a': 11.0, 'b': 49.0}, 'id': '51d70eb9-efc4-479a-855a-8fd27aaa9ab8', 'type': 'tool_call'}], usage_metadata={'input_tokens': 77, 'output_tokens': 10, 'total_tokens': 87, 'input_token_details': {'cache_read': 0}}),\n",
       " ToolMessage(content='36', name='multiply', tool_call_id='dea30842-fd64-4c63-9a87-368eeae77ba5'),\n",
       " ToolMessage(content='60', name='add', tool_call_id='51d70eb9-efc4-479a-855a-8fd27aaa9ab8')]"
      ]
     },
     "execution_count": 23,
     "metadata": {},
     "output_type": "execute_result"
    }
   ],
   "source": [
    "for tool_call in ai_msg.tool_calls:\n",
    "    selected_tool = {\"add\": add, \"multiply\": multiply}[tool_call[\"name\"].lower()]\n",
    "    tool_msg = selected_tool.invoke(tool_call)\n",
    "    messages.append(tool_msg)\n",
    "\n",
    "messages"
   ]
  },
  {
   "cell_type": "code",
   "execution_count": 24,
   "id": "14dbedd6",
   "metadata": {},
   "outputs": [
    {
     "data": {
      "text/plain": [
       "[HumanMessage(content='What is 3 * 12? Also, what is 11 + 49?', additional_kwargs={}, response_metadata={}),\n",
       " AIMessage(content='', additional_kwargs={'function_call': {'name': 'add', 'arguments': '{\"a\": 11.0, \"b\": 49.0}'}}, response_metadata={'prompt_feedback': {'block_reason': 0, 'safety_ratings': []}, 'finish_reason': 'STOP', 'model_name': 'gemini-2.0-flash', 'safety_ratings': []}, id='run--fcbfc647-56c0-409b-820d-12c6186773b8-0', tool_calls=[{'name': 'multiply', 'args': {'a': 3.0, 'b': 12.0}, 'id': 'dea30842-fd64-4c63-9a87-368eeae77ba5', 'type': 'tool_call'}, {'name': 'add', 'args': {'a': 11.0, 'b': 49.0}, 'id': '51d70eb9-efc4-479a-855a-8fd27aaa9ab8', 'type': 'tool_call'}], usage_metadata={'input_tokens': 77, 'output_tokens': 10, 'total_tokens': 87, 'input_token_details': {'cache_read': 0}}),\n",
       " ToolMessage(content='36', name='multiply', tool_call_id='dea30842-fd64-4c63-9a87-368eeae77ba5'),\n",
       " ToolMessage(content='60', name='add', tool_call_id='51d70eb9-efc4-479a-855a-8fd27aaa9ab8')]"
      ]
     },
     "execution_count": 24,
     "metadata": {},
     "output_type": "execute_result"
    }
   ],
   "source": [
    "messages"
   ]
  },
  {
   "cell_type": "code",
   "execution_count": 25,
   "id": "2ff82454",
   "metadata": {},
   "outputs": [],
   "source": [
    "res = llm_with_tools.invoke(messages)"
   ]
  },
  {
   "cell_type": "code",
   "execution_count": 26,
   "id": "24f11907",
   "metadata": {},
   "outputs": [
    {
     "data": {
      "text/plain": [
       "'3 * 12 is 36. 11 + 49 is 60.'"
      ]
     },
     "execution_count": 26,
     "metadata": {},
     "output_type": "execute_result"
    }
   ],
   "source": [
    "res.content"
   ]
  },
  {
   "cell_type": "code",
   "execution_count": 28,
   "id": "c48708c2",
   "metadata": {},
   "outputs": [
    {
     "data": {
      "text/plain": [
       "AIMessage(content='Artificial intelligence (AI) is a broad field encompassing the development of computer systems that can perform tasks that typically require human intelligence. These tasks include learning, problem-solving, decision-making, and perception.', additional_kwargs={}, response_metadata={'prompt_feedback': {'block_reason': 0, 'safety_ratings': []}, 'finish_reason': 'STOP', 'model_name': 'gemini-2.0-flash', 'safety_ratings': []}, id='run--60a27e38-6e26-445f-99c4-79b3e0e45668-0', usage_metadata={'input_tokens': 59, 'output_tokens': 41, 'total_tokens': 100, 'input_token_details': {'cache_read': 0}})"
      ]
     },
     "execution_count": 28,
     "metadata": {},
     "output_type": "execute_result"
    }
   ],
   "source": [
    "llm_with_tools.invoke(\"what is ai\")"
   ]
  },
  {
   "cell_type": "code",
   "execution_count": null,
   "id": "f499df7f",
   "metadata": {},
   "outputs": [],
   "source": []
  }
 ],
 "metadata": {
  "kernelspec": {
   "display_name": "venv",
   "language": "python",
   "name": "python3"
  },
  "language_info": {
   "codemirror_mode": {
    "name": "ipython",
    "version": 3
   },
   "file_extension": ".py",
   "mimetype": "text/x-python",
   "name": "python",
   "nbconvert_exporter": "python",
   "pygments_lexer": "ipython3",
   "version": "3.12.4"
  }
 },
 "nbformat": 4,
 "nbformat_minor": 5
}
