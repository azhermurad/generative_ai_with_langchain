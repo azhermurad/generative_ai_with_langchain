{
 "cells": [
  {
   "cell_type": "markdown",
   "id": "7e942b6a",
   "metadata": {},
   "source": [
    "### SmartScrape Project"
   ]
  },
  {
   "cell_type": "code",
   "execution_count": 46,
   "id": "c4c1f8bc",
   "metadata": {},
   "outputs": [],
   "source": [
    "import os\n",
    "from langchain_google_genai import ChatGoogleGenerativeAI\n",
    "from langchain_text_splitters import RecursiveCharacterTextSplitter\n",
    "from langchain_google_genai import GoogleGenerativeAIEmbeddings\n",
    "from langchain_community.document_loaders import WebBaseLoader\n",
    "import faiss\n",
    "from langchain_community.docstore.in_memory import InMemoryDocstore\n",
    "from langchain_community.vectorstores import FAISS\n",
    "from dotenv import load_dotenv\n",
    "load_dotenv()\n",
    "\n",
    "\n",
    "\n",
    "# loading env varables\n",
    "os.environ[\"GOOGLE_API_KEY\"] = os.getenv(\"GOOGLE_API_KEY\")\n",
    "os.environ[\"LANGSMITH_TRACING\"] = os.getenv(\"LANGSMITH_TRACING\")\n",
    "os.environ[\"LANGSMITH_PROJECT\"] = os.getenv(\"LANGSMITH_PROJECT\")\n",
    "os.environ[\"LANGSMITH_API_KEY\"] = os.getenv(\"LANGSMITH_API_KEY\")\n",
    "\n"
   ]
  },
  {
   "cell_type": "code",
   "execution_count": 47,
   "id": "7b7e81d4",
   "metadata": {},
   "outputs": [
    {
     "data": {
      "text/plain": [
       "True"
      ]
     },
     "execution_count": 47,
     "metadata": {},
     "output_type": "execute_result"
    }
   ],
   "source": [
    "\"GOOGLE_API_KEY\" in os.environ"
   ]
  },
  {
   "cell_type": "code",
   "execution_count": 48,
   "id": "0da10579",
   "metadata": {},
   "outputs": [],
   "source": [
    "page_url = \"https://python.langchain.com/docs/how_to/chatbots_memory/\"\n",
    "loader = WebBaseLoader(web_paths=[page_url])"
   ]
  },
  {
   "cell_type": "code",
   "execution_count": 49,
   "id": "82eaf971",
   "metadata": {},
   "outputs": [
    {
     "data": {
      "text/plain": [
       "[Document(metadata={'source': 'https://python.langchain.com/docs/how_to/chatbots_memory/', 'title': 'How to add memory to chatbots | 🦜️🔗 LangChain', 'description': 'A key feature of chatbots is their ability to use the content of previous conversational turns as context. This state management can take several forms, including:', 'language': 'en'}, page_content='\\n\\n\\n\\n\\nHow to add memory to chatbots | 🦜️🔗 LangChain\\n\\n\\n\\n\\n\\n\\nSkip to main contentOur Building Ambient Agents with LangGraph course is now available on LangChain Academy!IntegrationsAPI ReferenceMoreContributingPeopleError referenceLangSmithLangGraphLangChain HubLangChain JS/TSv0.3v0.3v0.2v0.1💬SearchIntroductionTutorialsBuild a Question Answering application over a Graph DatabaseTutorialsBuild a simple LLM application with chat models and prompt templatesBuild a ChatbotBuild a Retrieval Augmented Generation (RAG) App: Part 2Build an Extraction ChainBuild an AgentTaggingBuild a Retrieval Augmented Generation (RAG) App: Part 1Build a semantic search engineBuild a Question/Answering system over SQL dataSummarize TextHow-to guidesHow-to guidesHow to use tools in a chainHow to use a vectorstore as a retrieverHow to add memory to chatbotsHow to use example selectorsHow to add a semantic layer over graph databaseHow to invoke runnables in parallelHow to stream chat model responsesHow to add default invocation args to a RunnableHow to add retrieval to chatbotsHow to use few shot examples in chat modelsHow to do tool/function callingHow to install LangChain packagesHow to add examples to the prompt for query analysisHow to use few shot examplesHow to run custom functionsHow to use output parsers to parse an LLM response into structured formatHow to handle cases where no queries are generatedHow to route between sub-chainsHow to return structured data from a modelHow to summarize text through parallelizationHow to summarize text through iterative refinementHow to summarize text in a single LLM callHow to use toolkitsHow to add ad-hoc tool calling capability to LLMs and Chat ModelsBuild an Agent with AgentExecutor (Legacy)How to construct knowledge graphsHow to partially format prompt templatesHow to handle multiple queries when doing query analysisHow to use built-in tools and toolkitsHow to pass through arguments from one step to the nextHow to compose prompts togetherHow to handle multiple retrievers when doing query analysisHow to add values to a chain\\'s stateHow to construct filters for query analysisHow to configure runtime chain internalsHow deal with high cardinality categoricals when doing query analysisCustom Document LoaderHow to use the MultiQueryRetrieverHow to add scores to retriever resultsCachingHow to use callbacks in async environmentsHow to attach callbacks to a runnableHow to propagate callbacks  constructorHow to dispatch custom callback eventsHow to pass callbacks in at runtimeHow to split by characterHow to cache chat model responsesHow to handle rate limitsHow to init any model in one lineHow to track token usage in ChatModelsHow to add tools to chatbotsHow to split codeHow to do retrieval with contextual compressionHow to convert Runnables to ToolsHow to create custom callback handlersHow to create a custom chat model classCustom EmbeddingsHow to create a custom LLM classCustom RetrieverHow to create toolsHow to debug your LLM appsHow to load CSVsHow to load documents from a directoryHow to load HTMLHow to load JSONHow to load MarkdownHow to load Microsoft Office filesHow to load PDFsHow to load web pagesHow to create a dynamic (self-constructing) chainText embedding modelsHow to combine results from multiple retrieversHow to select examples from a LangSmith datasetHow to select examples by lengthHow to select examples by maximal marginal relevance (MMR)How to select examples by n-gram overlapHow to select examples by similarityHow to use reference examples when doing extractionHow to handle long text when doing extractionHow to use prompting alone (no tool calling) to do extractionHow to add fallbacks to a runnableHow to filter messagesHybrid SearchHow to use the LangChain indexing APIHow to inspect runnablesLangChain Expression Language CheatsheetHow to cache LLM responsesHow to track token usage for LLMsRun models locallyHow to get log probabilitiesHow to reorder retrieved results to mitigate the \"lost in the middle\" effectHow to split Markdown by HeadersHow to merge consecutive messages of the same typeHow to add message historyHow to migrate from legacy LangChain agents to LangGraphHow to retrieve using multiple vectors per documentHow to pass multimodal data to modelsHow to use multimodal promptsHow to create a custom Output ParserHow to use the output-fixing parserHow to parse JSON outputHow to retry when a parsing error occursHow to parse text from message objectsHow to parse XML outputHow to parse YAML outputHow to use the Parent Document RetrieverHow to use LangChain with different Pydantic versionsHow to add chat historyHow to get a RAG application to add citationsHow to do per-user retrievalHow to get your RAG application to return sourcesHow to stream results from your RAG applicationHow to split JSON dataHow to recursively split text by charactersResponse metadataHow to pass runtime secrets to runnablesHow to do \"self-querying\" retrievalHow to split text based on semantic similarityHow to chain runnablesHow to save and load LangChain objectsHow to split text by tokensHow to split HTMLHow to do question answering over CSVsHow to deal with large databases when doing SQL question-answeringHow to better prompt when doing SQL question-answeringHow to do query validation as part of SQL question-answeringHow to stream runnablesHow to stream responses from an LLMHow to use a time-weighted vector store retrieverHow to return artifacts from a toolHow to use chat models to call toolsHow to disable parallel tool callingHow to force models to call a toolHow to access the RunnableConfig from a toolHow to pass tool outputs to chat modelsHow to pass run time values to toolsHow to stream events from a toolHow to stream tool callsHow to convert tools to OpenAI FunctionsHow to handle tool errorsHow to use few-shot prompting with tool callingHow to add a human-in-the-loop for toolsHow to bind model-specific toolsHow to trim messagesHow to create and query vector storesConceptual guideAgentsArchitectureAsync programming with langchainCallbacksChat historyChat modelsDocument loadersEmbedding modelsEvaluationExample selectorsFew-shot promptingConceptual guideKey-value storesLangChain Expression Language (LCEL)MessagesMultimodalityOutput parsersPrompt TemplatesRetrieval augmented generation (RAG)RetrievalRetrieversRunnable interfaceStreamingStructured outputsTestingString-in, string-out llmsText splittersTokensTool callingToolsTracingVector storesWhy LangChain?Ecosystem🦜🛠️ LangSmith🦜🕸️ LangGraphVersionsv0.3v0.2Pydantic compatibilityMigrating from v0.0 chainsHow to migrate from v0.0 chainsMigrating from ConstitutionalChainMigrating from ConversationalChainMigrating from ConversationalRetrievalChainMigrating from LLMChainMigrating from LLMMathChainMigrating from LLMRouterChainMigrating from MapReduceDocumentsChainMigrating from MapRerankDocumentsChainMigrating from MultiPromptChainMigrating from RefineDocumentsChainMigrating from RetrievalQAMigrating from StuffDocumentsChainUpgrading to LangGraph memoryHow to migrate to LangGraph memoryHow to use BaseChatMessageHistory with LangGraphMigrating off ConversationBufferMemory or ConversationStringBufferMemoryMigrating off ConversationBufferWindowMemory or ConversationTokenBufferMemoryMigrating off ConversationSummaryMemory or ConversationSummaryBufferMemoryA Long-Term Memory AgentRelease policySecurity PolicyHow-to guidesHow to add memory to chatbotsOn this pageHow to add memory to chatbots\\nA key feature of chatbots is their ability to use the content of previous conversational turns as context. This state management can take several forms, including:\\n\\nSimply stuffing previous messages into a chat model prompt.\\nThe above, but trimming old messages to reduce the amount of distracting information the model has to deal with.\\nMore complex modifications like synthesizing summaries for long running conversations.\\n\\nWe\\'ll go into more detail on a few techniques below!\\nnoteThis how-to guide previously built a chatbot using RunnableWithMessageHistory. You can access this version of the guide in the v0.2 docs.As of the v0.3 release of LangChain, we recommend that LangChain users take advantage of LangGraph persistence to incorporate memory into new LangChain applications.If your code is already relying on RunnableWithMessageHistory or BaseChatMessageHistory, you do not need to make any changes. We do not plan on deprecating this functionality in the near future as it works for simple chat applications and any code that uses RunnableWithMessageHistory will continue to work as expected.Please see How to migrate to LangGraph Memory for more details.\\nSetup\\u200b\\nYou\\'ll need to install a few packages, and have your OpenAI API key set as an environment variable named OPENAI_API_KEY:\\n%pip install --upgrade --quiet langchain langchain-openai langgraphimport getpassimport osif not os.environ.get(\"OPENAI_API_KEY\"):    os.environ[\"OPENAI_API_KEY\"] = getpass.getpass(\"OpenAI API Key:\")\\nOpenAI API Key: ········\\nLet\\'s also set up a chat model that we\\'ll use for the below examples.\\nfrom langchain_openai import ChatOpenAImodel = ChatOpenAI(model=\"gpt-4o-mini\")API Reference:ChatOpenAI\\nMessage passing\\u200b\\nThe simplest form of memory is simply passing chat history messages into a chain. Here\\'s an example:\\nfrom langchain_core.messages import AIMessage, HumanMessage, SystemMessagefrom langchain_core.prompts import ChatPromptTemplate, MessagesPlaceholderprompt = ChatPromptTemplate.from_messages(    [        SystemMessage(            content=\"You are a helpful assistant. Answer all questions to the best of your ability.\"        ),        MessagesPlaceholder(variable_name=\"messages\"),    ])chain = prompt | modelai_msg = chain.invoke(    {        \"messages\": [            HumanMessage(                content=\"Translate from English to French: I love programming.\"            ),            AIMessage(content=\"J\\'adore la programmation.\"),            HumanMessage(content=\"What did you just say?\"),        ],    })print(ai_msg.content)API Reference:AIMessage | HumanMessage | SystemMessage | ChatPromptTemplate | MessagesPlaceholder\\nI said, \"I love programming\" in French: \"J\\'adore la programmation.\"\\nWe can see that by passing the previous conversation into a chain, it can use it as context to answer questions. This is the basic concept underpinning chatbot memory - the rest of the guide will demonstrate convenient techniques for passing or reformatting messages.\\nAutomatic history management\\u200b\\nThe previous examples pass messages to the chain (and model) explicitly. This is a completely acceptable approach, but it does require external management of new messages. LangChain also provides a way to build applications that have memory using LangGraph\\'s persistence. You can enable persistence in LangGraph applications by providing a checkpointer when compiling the graph.\\nfrom langgraph.checkpoint.memory import MemorySaverfrom langgraph.graph import START, MessagesState, StateGraphworkflow = StateGraph(state_schema=MessagesState)# Define the function that calls the modeldef call_model(state: MessagesState):    system_prompt = (        \"You are a helpful assistant. \"        \"Answer all questions to the best of your ability.\"    )    messages = [SystemMessage(content=system_prompt)] + state[\"messages\"]    response = model.invoke(messages)    return {\"messages\": response}# Define the node and edgeworkflow.add_node(\"model\", call_model)workflow.add_edge(START, \"model\")# Add simple in-memory checkpointermemory = MemorySaver()app = workflow.compile(checkpointer=memory)API Reference:MemorySaver\\nWe\\'ll pass the latest input to the conversation here and let LangGraph keep track of the conversation history using the checkpointer:\\napp.invoke(    {\"messages\": [HumanMessage(content=\"Translate to French: I love programming.\")]},    config={\"configurable\": {\"thread_id\": \"1\"}},)\\n{\\'messages\\': [HumanMessage(content=\\'Translate to French: I love programming.\\', additional_kwargs={}, response_metadata={}, id=\\'be5e7099-3149-4293-af49-6b36c8ccd71b\\'),  AIMessage(content=\"J\\'aime programmer.\", additional_kwargs={\\'refusal\\': None}, response_metadata={\\'token_usage\\': {\\'completion_tokens\\': 4, \\'prompt_tokens\\': 35, \\'total_tokens\\': 39, \\'completion_tokens_details\\': {\\'reasoning_tokens\\': 0}}, \\'model_name\\': \\'gpt-4o-mini-2024-07-18\\', \\'system_fingerprint\\': \\'fp_e9627b5346\\', \\'finish_reason\\': \\'stop\\', \\'logprobs\\': None}, id=\\'run-8a753d7a-b97b-4d01-a661-626be6f41b38-0\\', usage_metadata={\\'input_tokens\\': 35, \\'output_tokens\\': 4, \\'total_tokens\\': 39})]}\\napp.invoke(    {\"messages\": [HumanMessage(content=\"What did I just ask you?\")]},    config={\"configurable\": {\"thread_id\": \"1\"}},)\\n{\\'messages\\': [HumanMessage(content=\\'Translate to French: I love programming.\\', additional_kwargs={}, response_metadata={}, id=\\'be5e7099-3149-4293-af49-6b36c8ccd71b\\'),  AIMessage(content=\"J\\'aime programmer.\", additional_kwargs={\\'refusal\\': None}, response_metadata={\\'token_usage\\': {\\'completion_tokens\\': 4, \\'prompt_tokens\\': 35, \\'total_tokens\\': 39, \\'completion_tokens_details\\': {\\'reasoning_tokens\\': 0}}, \\'model_name\\': \\'gpt-4o-mini-2024-07-18\\', \\'system_fingerprint\\': \\'fp_e9627b5346\\', \\'finish_reason\\': \\'stop\\', \\'logprobs\\': None}, id=\\'run-8a753d7a-b97b-4d01-a661-626be6f41b38-0\\', usage_metadata={\\'input_tokens\\': 35, \\'output_tokens\\': 4, \\'total_tokens\\': 39}),  HumanMessage(content=\\'What did I just ask you?\\', additional_kwargs={}, response_metadata={}, id=\\'c667529b-7c41-4cc0-9326-0af47328b816\\'),  AIMessage(content=\\'You asked me to translate \"I love programming\" into French.\\', additional_kwargs={\\'refusal\\': None}, response_metadata={\\'token_usage\\': {\\'completion_tokens\\': 13, \\'prompt_tokens\\': 54, \\'total_tokens\\': 67, \\'completion_tokens_details\\': {\\'reasoning_tokens\\': 0}}, \\'model_name\\': \\'gpt-4o-mini-2024-07-18\\', \\'system_fingerprint\\': \\'fp_1bb46167f9\\', \\'finish_reason\\': \\'stop\\', \\'logprobs\\': None}, id=\\'run-134a7ea0-d3a4-4923-bd58-25e5a43f6a1f-0\\', usage_metadata={\\'input_tokens\\': 54, \\'output_tokens\\': 13, \\'total_tokens\\': 67})]}\\nModifying chat history\\u200b\\nModifying stored chat messages can help your chatbot handle a variety of situations. Here are some examples:\\nTrimming messages\\u200b\\nLLMs and chat models have limited context windows, and even if you\\'re not directly hitting limits, you may want to limit the amount of distraction the model has to deal with. One solution is trim the history messages before passing them to the model. Let\\'s use an example history with the app we declared above:\\ndemo_ephemeral_chat_history = [    HumanMessage(content=\"Hey there! I\\'m Nemo.\"),    AIMessage(content=\"Hello!\"),    HumanMessage(content=\"How are you today?\"),    AIMessage(content=\"Fine thanks!\"),]app.invoke(    {        \"messages\": demo_ephemeral_chat_history        + [HumanMessage(content=\"What\\'s my name?\")]    },    config={\"configurable\": {\"thread_id\": \"2\"}},)\\n{\\'messages\\': [HumanMessage(content=\"Hey there! I\\'m Nemo.\", additional_kwargs={}, response_metadata={}, id=\\'6b4cab70-ce18-49b0-bb06-267bde44e037\\'),  AIMessage(content=\\'Hello!\\', additional_kwargs={}, response_metadata={}, id=\\'ba3714f4-8876-440b-a651-efdcab2fcb4c\\'),  HumanMessage(content=\\'How are you today?\\', additional_kwargs={}, response_metadata={}, id=\\'08d032c0-1577-4862-a3f2-5c1b90687e21\\'),  AIMessage(content=\\'Fine thanks!\\', additional_kwargs={}, response_metadata={}, id=\\'21790e16-db05-4537-9a6b-ecad0fcec436\\'),  HumanMessage(content=\"What\\'s my name?\", additional_kwargs={}, response_metadata={}, id=\\'c933eca3-5fd8-4651-af16-20fe2d49c216\\'),  AIMessage(content=\\'Your name is Nemo.\\', additional_kwargs={\\'refusal\\': None}, response_metadata={\\'token_usage\\': {\\'completion_tokens\\': 5, \\'prompt_tokens\\': 63, \\'total_tokens\\': 68, \\'completion_tokens_details\\': {\\'reasoning_tokens\\': 0}}, \\'model_name\\': \\'gpt-4o-mini-2024-07-18\\', \\'system_fingerprint\\': \\'fp_1bb46167f9\\', \\'finish_reason\\': \\'stop\\', \\'logprobs\\': None}, id=\\'run-a0b21acc-9dbb-4fb6-a953-392020f37d88-0\\', usage_metadata={\\'input_tokens\\': 63, \\'output_tokens\\': 5, \\'total_tokens\\': 68})]}\\nWe can see the app remembers the preloaded name.\\nBut let\\'s say we have a very small context window, and we want to trim the number of messages passed to the model to only the 2 most recent ones. We can use the built in trim_messages util to trim messages based on their token count before they reach our prompt. In this case we\\'ll count each message as 1 \"token\" and keep only the last two messages:\\nfrom langchain_core.messages import trim_messagesfrom langgraph.checkpoint.memory import MemorySaverfrom langgraph.graph import START, MessagesState, StateGraph# Define trimmer# count each message as 1 \"token\" (token_counter=len) and keep only the last two messagestrimmer = trim_messages(strategy=\"last\", max_tokens=2, token_counter=len)workflow = StateGraph(state_schema=MessagesState)# Define the function that calls the modeldef call_model(state: MessagesState):    trimmed_messages = trimmer.invoke(state[\"messages\"])    system_prompt = (        \"You are a helpful assistant. \"        \"Answer all questions to the best of your ability.\"    )    messages = [SystemMessage(content=system_prompt)] + trimmed_messages    response = model.invoke(messages)    return {\"messages\": response}# Define the node and edgeworkflow.add_node(\"model\", call_model)workflow.add_edge(START, \"model\")# Add simple in-memory checkpointermemory = MemorySaver()app = workflow.compile(checkpointer=memory)API Reference:trim_messages | MemorySaver\\nLet\\'s call this new app and check the response\\napp.invoke(    {        \"messages\": demo_ephemeral_chat_history        + [HumanMessage(content=\"What is my name?\")]    },    config={\"configurable\": {\"thread_id\": \"3\"}},)\\n{\\'messages\\': [HumanMessage(content=\"Hey there! I\\'m Nemo.\", additional_kwargs={}, response_metadata={}, id=\\'6b4cab70-ce18-49b0-bb06-267bde44e037\\'),  AIMessage(content=\\'Hello!\\', additional_kwargs={}, response_metadata={}, id=\\'ba3714f4-8876-440b-a651-efdcab2fcb4c\\'),  HumanMessage(content=\\'How are you today?\\', additional_kwargs={}, response_metadata={}, id=\\'08d032c0-1577-4862-a3f2-5c1b90687e21\\'),  AIMessage(content=\\'Fine thanks!\\', additional_kwargs={}, response_metadata={}, id=\\'21790e16-db05-4537-9a6b-ecad0fcec436\\'),  HumanMessage(content=\\'What is my name?\\', additional_kwargs={}, response_metadata={}, id=\\'a22ab7c5-8617-4821-b3e9-a9e7dca1ff78\\'),  AIMessage(content=\"I\\'m sorry, but I don\\'t have access to personal information about you unless you share it with me. How can I assist you today?\", additional_kwargs={\\'refusal\\': None}, response_metadata={\\'token_usage\\': {\\'completion_tokens\\': 27, \\'prompt_tokens\\': 39, \\'total_tokens\\': 66, \\'completion_tokens_details\\': {\\'reasoning_tokens\\': 0}}, \\'model_name\\': \\'gpt-4o-mini-2024-07-18\\', \\'system_fingerprint\\': \\'fp_1bb46167f9\\', \\'finish_reason\\': \\'stop\\', \\'logprobs\\': None}, id=\\'run-f7b32d72-9f57-4705-be7e-43bf1c3d293b-0\\', usage_metadata={\\'input_tokens\\': 39, \\'output_tokens\\': 27, \\'total_tokens\\': 66})]}\\nWe can see that trim_messages was called and only the two most recent messages will be passed to the model. In this case, this means that the model forgot the name we gave it.\\nCheck out our how to guide on trimming messages for more.\\nSummary memory\\u200b\\nWe can use this same pattern in other ways too. For example, we could use an additional LLM call to generate a summary of the conversation before calling our app. Let\\'s recreate our chat history:\\ndemo_ephemeral_chat_history = [    HumanMessage(content=\"Hey there! I\\'m Nemo.\"),    AIMessage(content=\"Hello!\"),    HumanMessage(content=\"How are you today?\"),    AIMessage(content=\"Fine thanks!\"),]\\nAnd now, let\\'s update the model-calling function to distill previous interactions into a summary:\\nfrom langchain_core.messages import HumanMessage, RemoveMessagefrom langgraph.checkpoint.memory import MemorySaverfrom langgraph.graph import START, MessagesState, StateGraphworkflow = StateGraph(state_schema=MessagesState)# Define the function that calls the modeldef call_model(state: MessagesState):    system_prompt = (        \"You are a helpful assistant. \"        \"Answer all questions to the best of your ability. \"        \"The provided chat history includes a summary of the earlier conversation.\"    )    system_message = SystemMessage(content=system_prompt)    message_history = state[\"messages\"][:-1]  # exclude the most recent user input    # Summarize the messages if the chat history reaches a certain size    if len(message_history) >= 4:        last_human_message = state[\"messages\"][-1]        # Invoke the model to generate conversation summary        summary_prompt = (            \"Distill the above chat messages into a single summary message. \"            \"Include as many specific details as you can.\"        )        summary_message = model.invoke(            message_history + [HumanMessage(content=summary_prompt)]        )        # Delete messages that we no longer want to show up        delete_messages = [RemoveMessage(id=m.id) for m in state[\"messages\"]]        # Re-add user message        human_message = HumanMessage(content=last_human_message.content)        # Call the model with summary & response        response = model.invoke([system_message, summary_message, human_message])        message_updates = [summary_message, human_message, response] + delete_messages    else:        message_updates = model.invoke([system_message] + state[\"messages\"])    return {\"messages\": message_updates}# Define the node and edgeworkflow.add_node(\"model\", call_model)workflow.add_edge(START, \"model\")# Add simple in-memory checkpointermemory = MemorySaver()app = workflow.compile(checkpointer=memory)API Reference:HumanMessage | RemoveMessage | MemorySaver\\nLet\\'s see if it remembers the name we gave it:\\napp.invoke(    {        \"messages\": demo_ephemeral_chat_history        + [HumanMessage(\"What did I say my name was?\")]    },    config={\"configurable\": {\"thread_id\": \"4\"}},)\\n{\\'messages\\': [AIMessage(content=\"Nemo greeted me, and I responded positively, indicating that I\\'m doing well.\", additional_kwargs={\\'refusal\\': None}, response_metadata={\\'token_usage\\': {\\'completion_tokens\\': 16, \\'prompt_tokens\\': 60, \\'total_tokens\\': 76, \\'completion_tokens_details\\': {\\'reasoning_tokens\\': 0}}, \\'model_name\\': \\'gpt-4o-mini-2024-07-18\\', \\'system_fingerprint\\': \\'fp_1bb46167f9\\', \\'finish_reason\\': \\'stop\\', \\'logprobs\\': None}, id=\\'run-ee42f98d-907d-4bad-8f16-af2db789701d-0\\', usage_metadata={\\'input_tokens\\': 60, \\'output_tokens\\': 16, \\'total_tokens\\': 76}),  HumanMessage(content=\\'What did I say my name was?\\', additional_kwargs={}, response_metadata={}, id=\\'788555ea-5b1f-4c29-a2f2-a92f15d147be\\'),  AIMessage(content=\\'You mentioned that your name is Nemo.\\', additional_kwargs={\\'refusal\\': None}, response_metadata={\\'token_usage\\': {\\'completion_tokens\\': 8, \\'prompt_tokens\\': 67, \\'total_tokens\\': 75, \\'completion_tokens_details\\': {\\'reasoning_tokens\\': 0}}, \\'model_name\\': \\'gpt-4o-mini-2024-07-18\\', \\'system_fingerprint\\': \\'fp_1bb46167f9\\', \\'finish_reason\\': \\'stop\\', \\'logprobs\\': None}, id=\\'run-099a43bd-a284-4969-bb6f-0be486614cd8-0\\', usage_metadata={\\'input_tokens\\': 67, \\'output_tokens\\': 8, \\'total_tokens\\': 75})]}\\nNote that invoking the app again will keep accumulating the history until it reaches the specified number of messages (four in our case). At that point we will generate another summary generated from the initial summary plus new messages and so on.Edit this pagePreviousHow to use a vectorstore as a retrieverNextHow to use example selectorsSetupMessage passingAutomatic history managementModifying chat historyTrimming messagesSummary memoryCommunityLangChain ForumTwitterGitHubOrganizationPythonJS/TSMoreHomepageBlogYouTubeCopyright © 2025 LangChain, Inc.\\n\\n')]"
      ]
     },
     "execution_count": 49,
     "metadata": {},
     "output_type": "execute_result"
    }
   ],
   "source": [
    "docs = loader.load()\n",
    "docs"
   ]
  },
  {
   "cell_type": "code",
   "execution_count": 50,
   "id": "1212cf78",
   "metadata": {},
   "outputs": [],
   "source": [
    "# splitting of text\n",
    "text_splitter = RecursiveCharacterTextSplitter(\n",
    "    chunk_size=600,\n",
    "    chunk_overlap=100,\n",
    "    \n",
    ")\n",
    "\n",
    "texts = text_splitter.split_documents(docs)"
   ]
  },
  {
   "cell_type": "code",
   "execution_count": 51,
   "id": "40f232dd",
   "metadata": {},
   "outputs": [],
   "source": [
    "# google chatmodel \n",
    "llm = ChatGoogleGenerativeAI(\n",
    "    model=\"gemini-2.0-flash\",\n",
    ")\n",
    "\n",
    "# google Embedding Model \n",
    "embeddings = GoogleGenerativeAIEmbeddings(model=\"models/embedding-001\")"
   ]
  },
  {
   "cell_type": "code",
   "execution_count": 52,
   "id": "639783e8",
   "metadata": {},
   "outputs": [
    {
     "data": {
      "text/plain": [
       "['c8e2de77-aef7-4032-9701-0727df9f2a8d',\n",
       " '2d61e485-0a10-4162-a746-133435c15cc7',\n",
       " '0d50e3fc-2fec-4fa6-81d8-89de1b1f1f85',\n",
       " '9877e301-e572-40b8-a402-7f6a29e3c83f',\n",
       " '8b033daa-ebba-48e9-a419-cd8d62cf2bdb',\n",
       " '75b60341-cfa2-427d-9947-e118eac99a62',\n",
       " 'baea4401-cbc1-4a51-ad2c-7a070d2b1d62',\n",
       " 'b6edcd9f-6382-4d4c-8b7b-d462e84eb949',\n",
       " '2d01460c-c9ef-4b58-a9bf-0cdece070962',\n",
       " 'ff756e9e-cfa2-42b5-ab5a-fb0c171595ec',\n",
       " '3447a6e0-85eb-4adc-a687-5cee03e54fa0',\n",
       " '07e61aa1-1248-4131-a17b-6c5f9d6ffc69',\n",
       " 'd37becf6-4522-4cd4-ade2-2349340585f0',\n",
       " 'cd3631fa-f9f9-476e-8708-0185db13511f',\n",
       " 'addd7616-271d-4c13-949d-c4cd4a261526',\n",
       " '863367d3-6da1-4618-9c07-f7f03680b25e',\n",
       " 'e3b0473f-95ab-4363-964a-47f108b82c3c',\n",
       " '2db9ab80-aaae-4d63-98fe-c932ae219c5c',\n",
       " 'caa94168-8c89-4972-aea0-99ae6597a62f',\n",
       " '40dd65a3-72d5-41ec-b23f-d9fd7295763a',\n",
       " '5c420ce3-bdce-40e7-9efb-0c6d2325d758',\n",
       " '91c22219-f192-446c-8485-37367f453f78',\n",
       " '04d1b2af-1299-40f6-8c45-f3f08452b538',\n",
       " '89f06347-afd7-4893-b6c6-36d41c452d75',\n",
       " 'd0e0c3d5-3cc8-42ce-8023-ddb7a6d12572',\n",
       " '9faf1de3-86bf-47d8-99a0-1add702d12c9',\n",
       " '57e6bf17-30fa-449d-99b9-ac713ead4210',\n",
       " '618a8013-b50e-45bc-9938-a2ea7f06410c',\n",
       " 'a80230db-3ac1-4574-bb81-0d137dbb2e44',\n",
       " '53345e11-8191-4f2d-80b5-837f8a015d3f',\n",
       " 'd0db6145-f985-4714-882c-fc3c2c878a46',\n",
       " '098d1fe1-4ab5-488c-b0a6-e74473e22fe3',\n",
       " '4d55a96f-f498-4d71-8732-d368d260a820',\n",
       " 'c78b154e-efab-449e-9bdb-2d16a599731d',\n",
       " '73318a49-74cc-4007-8e78-6c19f5046220',\n",
       " 'e7df2278-7f22-40c4-b2c4-b579ebd5a1a9',\n",
       " 'bd45407a-3045-43c4-b97a-9f643c182fcc',\n",
       " '231ffabe-2517-4f29-9a5a-c9436ea4dfd1',\n",
       " 'b961471f-e31e-43af-a4ef-c16063340040',\n",
       " '66622a69-1254-467f-85fe-d7ea1d0fb6ef',\n",
       " 'b9820b8a-e9db-4288-ba40-5b55c5535cb2',\n",
       " '6ed1cf6d-0b36-4072-948d-a3904d926273',\n",
       " '7ae9de80-b28f-464f-a001-7a96b7b93336',\n",
       " '53690fd1-297b-4df2-8292-83f629fbfb34',\n",
       " '4f08a7aa-e527-4a3a-b83d-f45943fdea88',\n",
       " '1086a3ce-9a41-4460-9d1e-d6e691034c01',\n",
       " 'ef583675-73b3-42f2-ba1a-f0f6d3c5d7af',\n",
       " '3206e6b6-ae57-4191-b579-a34291c9f952',\n",
       " 'c1b7ef6f-31aa-4634-a9e6-328fefee012c',\n",
       " 'e7205887-106c-443e-bd14-a5c48159cd0f',\n",
       " 'e2b6af59-0d9d-4cee-aef6-1368914b7280',\n",
       " 'c53dce28-d267-4bb4-9f9c-fa76c0c16867',\n",
       " 'e4ffd0c1-75e4-4e58-a992-5ad58a76e1a9',\n",
       " 'aba9a50d-c286-417f-ae0a-ed436825296d',\n",
       " 'e1134bfc-2915-4a10-a57e-d3feec755303',\n",
       " 'c4a8c9cc-0820-4e27-b525-7dcc7fb74190',\n",
       " 'de503fc7-fe72-4a8f-8573-3bd118c52a1a',\n",
       " 'dadcbc39-5b3e-42c7-acd9-fd13136455cf',\n",
       " 'db659b1d-a82f-4cb4-8a7e-7b97798280d2']"
      ]
     },
     "execution_count": 52,
     "metadata": {},
     "output_type": "execute_result"
    }
   ],
   "source": [
    "# vector storage \n",
    "\n",
    "index = faiss.IndexFlatL2(len(embeddings.embed_query(\"hello world\")))\n",
    "\n",
    "vector_store = FAISS(\n",
    "    embedding_function=embeddings,\n",
    "    index=index,\n",
    "    docstore=InMemoryDocstore(),\n",
    "    index_to_docstore_id={},\n",
    "    )\n",
    "\n",
    "vector_store.add_documents(documents=texts)"
   ]
  },
  {
   "cell_type": "code",
   "execution_count": 53,
   "id": "ab3b2683",
   "metadata": {},
   "outputs": [
    {
     "name": "stdout",
     "output_type": "stream",
     "text": [
      "Automatic history management​\n",
      "The previous examples pass messages to the chain (and model) explicitly. This is a completely acceptable approach, but it does require external management of new messages. LangChain also provides a way to build applications that have memory using LangGraph's persistence. You can enable persistence in LangGraph applications by providing a checkpointer when compiling the graph.\n"
     ]
    }
   ],
   "source": [
    "query =\"Automatic history management\"\n",
    "print(vector_store.similarity_search(query)[0].page_content)"
   ]
  },
  {
   "cell_type": "code",
   "execution_count": 54,
   "id": "4971ab55",
   "metadata": {},
   "outputs": [],
   "source": [
    "retriver = vector_store.as_retriever()"
   ]
  },
  {
   "cell_type": "code",
   "execution_count": 84,
   "id": "a2c13c2b",
   "metadata": {},
   "outputs": [],
   "source": [
    "# This chain takes a list of documents and formats them all into a prompt, then passes that prompt to an LLM. \n",
    "\n",
    "\n",
    "from langchain.chains.combine_documents import create_stuff_documents_chain\n",
    "\n",
    "from langchain_core.prompts import ChatPromptTemplate\n",
    "# 2. Create a prompt template\n",
    "prompt = ChatPromptTemplate.from_template(\"\"\"\n",
    "You are a helpful assistant. Given the following context, answer the question.\n",
    "\n",
    "Context:\n",
    "{context}\n",
    "\n",
    "Question: \n",
    "\n",
    "{input}\n",
    "\n",
    "\"\"\")\n",
    "\n",
    "# prompt = ChatPromptTemplate([\n",
    "#     (\"system\",\"your assitance\")\n",
    "# ])\n",
    "\n",
    "document_chain = create_stuff_documents_chain(llm,prompt)   "
   ]
  },
  {
   "cell_type": "code",
   "execution_count": 85,
   "id": "f1e5cdf6",
   "metadata": {},
   "outputs": [
    {
     "data": {
      "text/plain": [
       "RunnableBinding(bound=RunnableAssign(mapper={\n",
       "  context: RunnableBinding(bound=RunnableLambda(lambda x: x['input'])\n",
       "           | VectorStoreRetriever(tags=['FAISS', 'GoogleGenerativeAIEmbeddings'], vectorstore=<langchain_community.vectorstores.faiss.FAISS object at 0x7ddf5a02d100>, search_kwargs={}), kwargs={}, config={'run_name': 'retrieve_documents'}, config_factories=[])\n",
       "})\n",
       "| RunnableAssign(mapper={\n",
       "    answer: RunnableBinding(bound=RunnableBinding(bound=RunnableAssign(mapper={\n",
       "              context: RunnableLambda(format_docs)\n",
       "            }), kwargs={}, config={'run_name': 'format_inputs'}, config_factories=[])\n",
       "            | ChatPromptTemplate(input_variables=['context', 'input'], input_types={}, partial_variables={}, messages=[HumanMessagePromptTemplate(prompt=PromptTemplate(input_variables=['context', 'input'], input_types={}, partial_variables={}, template='\\nYou are a helpful assistant. Given the following context, answer the question.\\n\\nContext:\\n{context}\\n\\nQuestion: \\n\\n{input}\\n\\n'), additional_kwargs={})])\n",
       "            | ChatGoogleGenerativeAI(model='models/gemini-2.0-flash', google_api_key=SecretStr('**********'), client=<google.ai.generativelanguage_v1beta.services.generative_service.client.GenerativeServiceClient object at 0x7ddf6f5b5190>, default_metadata=(), model_kwargs={})\n",
       "            | StrOutputParser(), kwargs={}, config={'run_name': 'stuff_documents_chain'}, config_factories=[])\n",
       "  }), kwargs={}, config={'run_name': 'retrieval_chain'}, config_factories=[])"
      ]
     },
     "execution_count": 85,
     "metadata": {},
     "output_type": "execute_result"
    }
   ],
   "source": [
    "from langchain.chains import create_retrieval_chain\n",
    "\n",
    "retrieval_chain = create_retrieval_chain(retriver, document_chain)\n",
    "retrieval_chain"
   ]
  },
  {
   "cell_type": "code",
   "execution_count": 92,
   "id": "2efc6ab6",
   "metadata": {},
   "outputs": [],
   "source": [
    "res =retrieval_chain.invoke({\"input\": \"what is Automatic history management?\"})"
   ]
  },
  {
   "cell_type": "code",
   "execution_count": 93,
   "id": "53979847",
   "metadata": {},
   "outputs": [
    {
     "name": "stdout",
     "output_type": "stream",
     "text": [
      "Automatic history management in LangChain refers to building applications with memory using LangGraph's persistence. This is achieved by providing a checkpointer when compiling the graph, which allows the application to automatically manage and retain conversation history.\n"
     ]
    }
   ],
   "source": [
    "print(res[\"answer\"])"
   ]
  },
  {
   "cell_type": "code",
   "execution_count": 94,
   "id": "cc009062",
   "metadata": {},
   "outputs": [
    {
     "data": {
      "text/plain": [
       "{'input': 'what is Automatic history management?',\n",
       " 'context': [Document(id='57e6bf17-30fa-449d-99b9-ac713ead4210', metadata={'source': 'https://python.langchain.com/docs/how_to/chatbots_memory/', 'title': 'How to add memory to chatbots | 🦜️🔗 LangChain', 'description': 'A key feature of chatbots is their ability to use the content of previous conversational turns as context. This state management can take several forms, including:', 'language': 'en'}, page_content=\"Automatic history management\\u200b\\nThe previous examples pass messages to the chain (and model) explicitly. This is a completely acceptable approach, but it does require external management of new messages. LangChain also provides a way to build applications that have memory using LangGraph's persistence. You can enable persistence in LangGraph applications by providing a checkpointer when compiling the graph.\"),\n",
       "  Document(id='9faf1de3-86bf-47d8-99a0-1add702d12c9', metadata={'source': 'https://python.langchain.com/docs/how_to/chatbots_memory/', 'title': 'How to add memory to chatbots | 🦜️🔗 LangChain', 'description': 'A key feature of chatbots is their ability to use the content of previous conversational turns as context. This state management can take several forms, including:', 'language': 'en'}, page_content='I said, \"I love programming\" in French: \"J\\'adore la programmation.\"\\nWe can see that by passing the previous conversation into a chain, it can use it as context to answer questions. This is the basic concept underpinning chatbot memory - the rest of the guide will demonstrate convenient techniques for passing or reformatting messages.\\nAutomatic history management\\u200b'),\n",
       "  Document(id='bd45407a-3045-43c4-b97a-9f643c182fcc', metadata={'source': 'https://python.langchain.com/docs/how_to/chatbots_memory/', 'title': 'How to add memory to chatbots | 🦜️🔗 LangChain', 'description': 'A key feature of chatbots is their ability to use the content of previous conversational turns as context. This state management can take several forms, including:', 'language': 'en'}, page_content=\"Modifying chat history\\u200b\\nModifying stored chat messages can help your chatbot handle a variety of situations. Here are some examples:\\nTrimming messages\\u200b\\nLLMs and chat models have limited context windows, and even if you're not directly hitting limits, you may want to limit the amount of distraction the model has to deal with. One solution is trim the history messages before passing them to the model. Let's use an example history with the app we declared above:\"),\n",
       "  Document(id='db659b1d-a82f-4cb4-8a7e-7b97798280d2', metadata={'source': 'https://python.langchain.com/docs/how_to/chatbots_memory/', 'title': 'How to add memory to chatbots | 🦜️🔗 LangChain', 'description': 'A key feature of chatbots is their ability to use the content of previous conversational turns as context. This state management can take several forms, including:', 'language': 'en'}, page_content='Note that invoking the app again will keep accumulating the history until it reaches the specified number of messages (four in our case). At that point we will generate another summary generated from the initial summary plus new messages and so on.Edit this pagePreviousHow to use a vectorstore as a retrieverNextHow to use example selectorsSetupMessage passingAutomatic history managementModifying chat historyTrimming messagesSummary memoryCommunityLangChain ForumTwitterGitHubOrganizationPythonJS/TSMoreHomepageBlogYouTubeCopyright © 2025 LangChain, Inc.')],\n",
       " 'answer': \"Automatic history management in LangChain refers to building applications with memory using LangGraph's persistence. This is achieved by providing a checkpointer when compiling the graph, which allows the application to automatically manage and retain conversation history.\"}"
      ]
     },
     "execution_count": 94,
     "metadata": {},
     "output_type": "execute_result"
    }
   ],
   "source": [
    "res"
   ]
  },
  {
   "cell_type": "code",
   "execution_count": null,
   "id": "e3aa4d3d",
   "metadata": {},
   "outputs": [],
   "source": []
  }
 ],
 "metadata": {
  "kernelspec": {
   "display_name": "venv",
   "language": "python",
   "name": "python3"
  },
  "language_info": {
   "codemirror_mode": {
    "name": "ipython",
    "version": 3
   },
   "file_extension": ".py",
   "mimetype": "text/x-python",
   "name": "python",
   "nbconvert_exporter": "python",
   "pygments_lexer": "ipython3",
   "version": "3.12.4"
  }
 },
 "nbformat": 4,
 "nbformat_minor": 5
}
