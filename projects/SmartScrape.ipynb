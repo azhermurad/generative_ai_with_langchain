{
 "cells": [
  {
   "cell_type": "markdown",
   "id": "7e942b6a",
   "metadata": {},
   "source": [
    "### SmartScrape Project"
   ]
  },
  {
   "cell_type": "code",
   "execution_count": 42,
   "id": "c4c1f8bc",
   "metadata": {},
   "outputs": [],
   "source": [
    "import os\n",
    "from langchain_google_genai import ChatGoogleGenerativeAI\n",
    "from langchain_text_splitters import RecursiveCharacterTextSplitter\n",
    "from langchain_google_genai import GoogleGenerativeAIEmbeddings\n",
    "from langchain_community.document_loaders import WebBaseLoader\n",
    "import faiss\n",
    "from langchain_community.docstore.in_memory import InMemoryDocstore\n",
    "from langchain_community.vectorstores import FAISS\n",
    "from dotenv import load_dotenv\n",
    "load_dotenv()\n",
    "\n",
    "\n",
    "\n",
    "# loading env varables\n",
    "os.environ[\"GOOGLE_API_KEY\"] = os.getenv(\"GOOGLE_API_KEY\")\n",
    "os.environ[\"LANGSMITH_TRACING\"] = os.getenv(\"LANGSMITH_TRACING\")\n",
    "os.environ[\"LANGSMITH_PROJECT\"] = os.getenv(\"LANGSMITH_PROJECT\")\n",
    "os.environ[\"LANGSMITH_API_KEY\"] = os.getenv(\"LANGSMITH_API_KEY\")\n",
    "\n"
   ]
  },
  {
   "cell_type": "code",
   "execution_count": 43,
   "id": "7b7e81d4",
   "metadata": {},
   "outputs": [
    {
     "data": {
      "text/plain": [
       "True"
      ]
     },
     "execution_count": 43,
     "metadata": {},
     "output_type": "execute_result"
    }
   ],
   "source": [
    "\"GOOGLE_API_KEY\" in os.environ"
   ]
  },
  {
   "cell_type": "code",
   "execution_count": 44,
   "id": "0da10579",
   "metadata": {},
   "outputs": [],
   "source": [
    "page_url = \"https://python.langchain.com/docs/how_to/chatbots_memory/\"\n",
    "loader = WebBaseLoader(web_paths=[page_url])"
   ]
  },
  {
   "cell_type": "code",
   "execution_count": 45,
   "id": "82eaf971",
   "metadata": {},
   "outputs": [
    {
     "data": {
      "text/plain": [
       "[Document(metadata={'source': 'https://python.langchain.com/docs/how_to/chatbots_memory/', 'title': 'How to add memory to chatbots | 🦜️🔗 LangChain', 'description': 'A key feature of chatbots is their ability to use the content of previous conversational turns as context. This state management can take several forms, including:', 'language': 'en'}, page_content='\\n\\n\\n\\n\\nHow to add memory to chatbots | 🦜️🔗 LangChain\\n\\n\\n\\n\\n\\n\\nSkip to main contentOur Building Ambient Agents with LangGraph course is now available on LangChain Academy!IntegrationsAPI ReferenceMoreContributingPeopleError referenceLangSmithLangGraphLangChain HubLangChain JS/TSv0.3v0.3v0.2v0.1💬SearchIntroductionTutorialsBuild a Question Answering application over a Graph DatabaseTutorialsBuild a simple LLM application with chat models and prompt templatesBuild a ChatbotBuild a Retrieval Augmented Generation (RAG) App: Part 2Build an Extraction ChainBuild an AgentTaggingBuild a Retrieval Augmented Generation (RAG) App: Part 1Build a semantic search engineBuild a Question/Answering system over SQL dataSummarize TextHow-to guidesHow-to guidesHow to use tools in a chainHow to use a vectorstore as a retrieverHow to add memory to chatbotsHow to use example selectorsHow to add a semantic layer over graph databaseHow to invoke runnables in parallelHow to stream chat model responsesHow to add default invocation args to a RunnableHow to add retrieval to chatbotsHow to use few shot examples in chat modelsHow to do tool/function callingHow to install LangChain packagesHow to add examples to the prompt for query analysisHow to use few shot examplesHow to run custom functionsHow to use output parsers to parse an LLM response into structured formatHow to handle cases where no queries are generatedHow to route between sub-chainsHow to return structured data from a modelHow to summarize text through parallelizationHow to summarize text through iterative refinementHow to summarize text in a single LLM callHow to use toolkitsHow to add ad-hoc tool calling capability to LLMs and Chat ModelsBuild an Agent with AgentExecutor (Legacy)How to construct knowledge graphsHow to partially format prompt templatesHow to handle multiple queries when doing query analysisHow to use built-in tools and toolkitsHow to pass through arguments from one step to the nextHow to compose prompts togetherHow to handle multiple retrievers when doing query analysisHow to add values to a chain\\'s stateHow to construct filters for query analysisHow to configure runtime chain internalsHow deal with high cardinality categoricals when doing query analysisCustom Document LoaderHow to use the MultiQueryRetrieverHow to add scores to retriever resultsCachingHow to use callbacks in async environmentsHow to attach callbacks to a runnableHow to propagate callbacks  constructorHow to dispatch custom callback eventsHow to pass callbacks in at runtimeHow to split by characterHow to cache chat model responsesHow to handle rate limitsHow to init any model in one lineHow to track token usage in ChatModelsHow to add tools to chatbotsHow to split codeHow to do retrieval with contextual compressionHow to convert Runnables to ToolsHow to create custom callback handlersHow to create a custom chat model classCustom EmbeddingsHow to create a custom LLM classCustom RetrieverHow to create toolsHow to debug your LLM appsHow to load CSVsHow to load documents from a directoryHow to load HTMLHow to load JSONHow to load MarkdownHow to load Microsoft Office filesHow to load PDFsHow to load web pagesHow to create a dynamic (self-constructing) chainText embedding modelsHow to combine results from multiple retrieversHow to select examples from a LangSmith datasetHow to select examples by lengthHow to select examples by maximal marginal relevance (MMR)How to select examples by n-gram overlapHow to select examples by similarityHow to use reference examples when doing extractionHow to handle long text when doing extractionHow to use prompting alone (no tool calling) to do extractionHow to add fallbacks to a runnableHow to filter messagesHybrid SearchHow to use the LangChain indexing APIHow to inspect runnablesLangChain Expression Language CheatsheetHow to cache LLM responsesHow to track token usage for LLMsRun models locallyHow to get log probabilitiesHow to reorder retrieved results to mitigate the \"lost in the middle\" effectHow to split Markdown by HeadersHow to merge consecutive messages of the same typeHow to add message historyHow to migrate from legacy LangChain agents to LangGraphHow to retrieve using multiple vectors per documentHow to pass multimodal data to modelsHow to use multimodal promptsHow to create a custom Output ParserHow to use the output-fixing parserHow to parse JSON outputHow to retry when a parsing error occursHow to parse text from message objectsHow to parse XML outputHow to parse YAML outputHow to use the Parent Document RetrieverHow to use LangChain with different Pydantic versionsHow to add chat historyHow to get a RAG application to add citationsHow to do per-user retrievalHow to get your RAG application to return sourcesHow to stream results from your RAG applicationHow to split JSON dataHow to recursively split text by charactersResponse metadataHow to pass runtime secrets to runnablesHow to do \"self-querying\" retrievalHow to split text based on semantic similarityHow to chain runnablesHow to save and load LangChain objectsHow to split text by tokensHow to split HTMLHow to do question answering over CSVsHow to deal with large databases when doing SQL question-answeringHow to better prompt when doing SQL question-answeringHow to do query validation as part of SQL question-answeringHow to stream runnablesHow to stream responses from an LLMHow to use a time-weighted vector store retrieverHow to return artifacts from a toolHow to use chat models to call toolsHow to disable parallel tool callingHow to force models to call a toolHow to access the RunnableConfig from a toolHow to pass tool outputs to chat modelsHow to pass run time values to toolsHow to stream events from a toolHow to stream tool callsHow to convert tools to OpenAI FunctionsHow to handle tool errorsHow to use few-shot prompting with tool callingHow to add a human-in-the-loop for toolsHow to bind model-specific toolsHow to trim messagesHow to create and query vector storesConceptual guideAgentsArchitectureAsync programming with langchainCallbacksChat historyChat modelsDocument loadersEmbedding modelsEvaluationExample selectorsFew-shot promptingConceptual guideKey-value storesLangChain Expression Language (LCEL)MessagesMultimodalityOutput parsersPrompt TemplatesRetrieval augmented generation (RAG)RetrievalRetrieversRunnable interfaceStreamingStructured outputsTestingString-in, string-out llmsText splittersTokensTool callingToolsTracingVector storesWhy LangChain?Ecosystem🦜🛠️ LangSmith🦜🕸️ LangGraphVersionsv0.3v0.2Pydantic compatibilityMigrating from v0.0 chainsHow to migrate from v0.0 chainsMigrating from ConstitutionalChainMigrating from ConversationalChainMigrating from ConversationalRetrievalChainMigrating from LLMChainMigrating from LLMMathChainMigrating from LLMRouterChainMigrating from MapReduceDocumentsChainMigrating from MapRerankDocumentsChainMigrating from MultiPromptChainMigrating from RefineDocumentsChainMigrating from RetrievalQAMigrating from StuffDocumentsChainUpgrading to LangGraph memoryHow to migrate to LangGraph memoryHow to use BaseChatMessageHistory with LangGraphMigrating off ConversationBufferMemory or ConversationStringBufferMemoryMigrating off ConversationBufferWindowMemory or ConversationTokenBufferMemoryMigrating off ConversationSummaryMemory or ConversationSummaryBufferMemoryA Long-Term Memory AgentRelease policySecurity PolicyHow-to guidesHow to add memory to chatbotsOn this pageHow to add memory to chatbots\\nA key feature of chatbots is their ability to use the content of previous conversational turns as context. This state management can take several forms, including:\\n\\nSimply stuffing previous messages into a chat model prompt.\\nThe above, but trimming old messages to reduce the amount of distracting information the model has to deal with.\\nMore complex modifications like synthesizing summaries for long running conversations.\\n\\nWe\\'ll go into more detail on a few techniques below!\\nnoteThis how-to guide previously built a chatbot using RunnableWithMessageHistory. You can access this version of the guide in the v0.2 docs.As of the v0.3 release of LangChain, we recommend that LangChain users take advantage of LangGraph persistence to incorporate memory into new LangChain applications.If your code is already relying on RunnableWithMessageHistory or BaseChatMessageHistory, you do not need to make any changes. We do not plan on deprecating this functionality in the near future as it works for simple chat applications and any code that uses RunnableWithMessageHistory will continue to work as expected.Please see How to migrate to LangGraph Memory for more details.\\nSetup\\u200b\\nYou\\'ll need to install a few packages, and have your OpenAI API key set as an environment variable named OPENAI_API_KEY:\\n%pip install --upgrade --quiet langchain langchain-openai langgraphimport getpassimport osif not os.environ.get(\"OPENAI_API_KEY\"):    os.environ[\"OPENAI_API_KEY\"] = getpass.getpass(\"OpenAI API Key:\")\\nOpenAI API Key: ········\\nLet\\'s also set up a chat model that we\\'ll use for the below examples.\\nfrom langchain_openai import ChatOpenAImodel = ChatOpenAI(model=\"gpt-4o-mini\")API Reference:ChatOpenAI\\nMessage passing\\u200b\\nThe simplest form of memory is simply passing chat history messages into a chain. Here\\'s an example:\\nfrom langchain_core.messages import AIMessage, HumanMessage, SystemMessagefrom langchain_core.prompts import ChatPromptTemplate, MessagesPlaceholderprompt = ChatPromptTemplate.from_messages(    [        SystemMessage(            content=\"You are a helpful assistant. Answer all questions to the best of your ability.\"        ),        MessagesPlaceholder(variable_name=\"messages\"),    ])chain = prompt | modelai_msg = chain.invoke(    {        \"messages\": [            HumanMessage(                content=\"Translate from English to French: I love programming.\"            ),            AIMessage(content=\"J\\'adore la programmation.\"),            HumanMessage(content=\"What did you just say?\"),        ],    })print(ai_msg.content)API Reference:AIMessage | HumanMessage | SystemMessage | ChatPromptTemplate | MessagesPlaceholder\\nI said, \"I love programming\" in French: \"J\\'adore la programmation.\"\\nWe can see that by passing the previous conversation into a chain, it can use it as context to answer questions. This is the basic concept underpinning chatbot memory - the rest of the guide will demonstrate convenient techniques for passing or reformatting messages.\\nAutomatic history management\\u200b\\nThe previous examples pass messages to the chain (and model) explicitly. This is a completely acceptable approach, but it does require external management of new messages. LangChain also provides a way to build applications that have memory using LangGraph\\'s persistence. You can enable persistence in LangGraph applications by providing a checkpointer when compiling the graph.\\nfrom langgraph.checkpoint.memory import MemorySaverfrom langgraph.graph import START, MessagesState, StateGraphworkflow = StateGraph(state_schema=MessagesState)# Define the function that calls the modeldef call_model(state: MessagesState):    system_prompt = (        \"You are a helpful assistant. \"        \"Answer all questions to the best of your ability.\"    )    messages = [SystemMessage(content=system_prompt)] + state[\"messages\"]    response = model.invoke(messages)    return {\"messages\": response}# Define the node and edgeworkflow.add_node(\"model\", call_model)workflow.add_edge(START, \"model\")# Add simple in-memory checkpointermemory = MemorySaver()app = workflow.compile(checkpointer=memory)API Reference:MemorySaver\\nWe\\'ll pass the latest input to the conversation here and let LangGraph keep track of the conversation history using the checkpointer:\\napp.invoke(    {\"messages\": [HumanMessage(content=\"Translate to French: I love programming.\")]},    config={\"configurable\": {\"thread_id\": \"1\"}},)\\n{\\'messages\\': [HumanMessage(content=\\'Translate to French: I love programming.\\', additional_kwargs={}, response_metadata={}, id=\\'be5e7099-3149-4293-af49-6b36c8ccd71b\\'),  AIMessage(content=\"J\\'aime programmer.\", additional_kwargs={\\'refusal\\': None}, response_metadata={\\'token_usage\\': {\\'completion_tokens\\': 4, \\'prompt_tokens\\': 35, \\'total_tokens\\': 39, \\'completion_tokens_details\\': {\\'reasoning_tokens\\': 0}}, \\'model_name\\': \\'gpt-4o-mini-2024-07-18\\', \\'system_fingerprint\\': \\'fp_e9627b5346\\', \\'finish_reason\\': \\'stop\\', \\'logprobs\\': None}, id=\\'run-8a753d7a-b97b-4d01-a661-626be6f41b38-0\\', usage_metadata={\\'input_tokens\\': 35, \\'output_tokens\\': 4, \\'total_tokens\\': 39})]}\\napp.invoke(    {\"messages\": [HumanMessage(content=\"What did I just ask you?\")]},    config={\"configurable\": {\"thread_id\": \"1\"}},)\\n{\\'messages\\': [HumanMessage(content=\\'Translate to French: I love programming.\\', additional_kwargs={}, response_metadata={}, id=\\'be5e7099-3149-4293-af49-6b36c8ccd71b\\'),  AIMessage(content=\"J\\'aime programmer.\", additional_kwargs={\\'refusal\\': None}, response_metadata={\\'token_usage\\': {\\'completion_tokens\\': 4, \\'prompt_tokens\\': 35, \\'total_tokens\\': 39, \\'completion_tokens_details\\': {\\'reasoning_tokens\\': 0}}, \\'model_name\\': \\'gpt-4o-mini-2024-07-18\\', \\'system_fingerprint\\': \\'fp_e9627b5346\\', \\'finish_reason\\': \\'stop\\', \\'logprobs\\': None}, id=\\'run-8a753d7a-b97b-4d01-a661-626be6f41b38-0\\', usage_metadata={\\'input_tokens\\': 35, \\'output_tokens\\': 4, \\'total_tokens\\': 39}),  HumanMessage(content=\\'What did I just ask you?\\', additional_kwargs={}, response_metadata={}, id=\\'c667529b-7c41-4cc0-9326-0af47328b816\\'),  AIMessage(content=\\'You asked me to translate \"I love programming\" into French.\\', additional_kwargs={\\'refusal\\': None}, response_metadata={\\'token_usage\\': {\\'completion_tokens\\': 13, \\'prompt_tokens\\': 54, \\'total_tokens\\': 67, \\'completion_tokens_details\\': {\\'reasoning_tokens\\': 0}}, \\'model_name\\': \\'gpt-4o-mini-2024-07-18\\', \\'system_fingerprint\\': \\'fp_1bb46167f9\\', \\'finish_reason\\': \\'stop\\', \\'logprobs\\': None}, id=\\'run-134a7ea0-d3a4-4923-bd58-25e5a43f6a1f-0\\', usage_metadata={\\'input_tokens\\': 54, \\'output_tokens\\': 13, \\'total_tokens\\': 67})]}\\nModifying chat history\\u200b\\nModifying stored chat messages can help your chatbot handle a variety of situations. Here are some examples:\\nTrimming messages\\u200b\\nLLMs and chat models have limited context windows, and even if you\\'re not directly hitting limits, you may want to limit the amount of distraction the model has to deal with. One solution is trim the history messages before passing them to the model. Let\\'s use an example history with the app we declared above:\\ndemo_ephemeral_chat_history = [    HumanMessage(content=\"Hey there! I\\'m Nemo.\"),    AIMessage(content=\"Hello!\"),    HumanMessage(content=\"How are you today?\"),    AIMessage(content=\"Fine thanks!\"),]app.invoke(    {        \"messages\": demo_ephemeral_chat_history        + [HumanMessage(content=\"What\\'s my name?\")]    },    config={\"configurable\": {\"thread_id\": \"2\"}},)\\n{\\'messages\\': [HumanMessage(content=\"Hey there! I\\'m Nemo.\", additional_kwargs={}, response_metadata={}, id=\\'6b4cab70-ce18-49b0-bb06-267bde44e037\\'),  AIMessage(content=\\'Hello!\\', additional_kwargs={}, response_metadata={}, id=\\'ba3714f4-8876-440b-a651-efdcab2fcb4c\\'),  HumanMessage(content=\\'How are you today?\\', additional_kwargs={}, response_metadata={}, id=\\'08d032c0-1577-4862-a3f2-5c1b90687e21\\'),  AIMessage(content=\\'Fine thanks!\\', additional_kwargs={}, response_metadata={}, id=\\'21790e16-db05-4537-9a6b-ecad0fcec436\\'),  HumanMessage(content=\"What\\'s my name?\", additional_kwargs={}, response_metadata={}, id=\\'c933eca3-5fd8-4651-af16-20fe2d49c216\\'),  AIMessage(content=\\'Your name is Nemo.\\', additional_kwargs={\\'refusal\\': None}, response_metadata={\\'token_usage\\': {\\'completion_tokens\\': 5, \\'prompt_tokens\\': 63, \\'total_tokens\\': 68, \\'completion_tokens_details\\': {\\'reasoning_tokens\\': 0}}, \\'model_name\\': \\'gpt-4o-mini-2024-07-18\\', \\'system_fingerprint\\': \\'fp_1bb46167f9\\', \\'finish_reason\\': \\'stop\\', \\'logprobs\\': None}, id=\\'run-a0b21acc-9dbb-4fb6-a953-392020f37d88-0\\', usage_metadata={\\'input_tokens\\': 63, \\'output_tokens\\': 5, \\'total_tokens\\': 68})]}\\nWe can see the app remembers the preloaded name.\\nBut let\\'s say we have a very small context window, and we want to trim the number of messages passed to the model to only the 2 most recent ones. We can use the built in trim_messages util to trim messages based on their token count before they reach our prompt. In this case we\\'ll count each message as 1 \"token\" and keep only the last two messages:\\nfrom langchain_core.messages import trim_messagesfrom langgraph.checkpoint.memory import MemorySaverfrom langgraph.graph import START, MessagesState, StateGraph# Define trimmer# count each message as 1 \"token\" (token_counter=len) and keep only the last two messagestrimmer = trim_messages(strategy=\"last\", max_tokens=2, token_counter=len)workflow = StateGraph(state_schema=MessagesState)# Define the function that calls the modeldef call_model(state: MessagesState):    trimmed_messages = trimmer.invoke(state[\"messages\"])    system_prompt = (        \"You are a helpful assistant. \"        \"Answer all questions to the best of your ability.\"    )    messages = [SystemMessage(content=system_prompt)] + trimmed_messages    response = model.invoke(messages)    return {\"messages\": response}# Define the node and edgeworkflow.add_node(\"model\", call_model)workflow.add_edge(START, \"model\")# Add simple in-memory checkpointermemory = MemorySaver()app = workflow.compile(checkpointer=memory)API Reference:trim_messages | MemorySaver\\nLet\\'s call this new app and check the response\\napp.invoke(    {        \"messages\": demo_ephemeral_chat_history        + [HumanMessage(content=\"What is my name?\")]    },    config={\"configurable\": {\"thread_id\": \"3\"}},)\\n{\\'messages\\': [HumanMessage(content=\"Hey there! I\\'m Nemo.\", additional_kwargs={}, response_metadata={}, id=\\'6b4cab70-ce18-49b0-bb06-267bde44e037\\'),  AIMessage(content=\\'Hello!\\', additional_kwargs={}, response_metadata={}, id=\\'ba3714f4-8876-440b-a651-efdcab2fcb4c\\'),  HumanMessage(content=\\'How are you today?\\', additional_kwargs={}, response_metadata={}, id=\\'08d032c0-1577-4862-a3f2-5c1b90687e21\\'),  AIMessage(content=\\'Fine thanks!\\', additional_kwargs={}, response_metadata={}, id=\\'21790e16-db05-4537-9a6b-ecad0fcec436\\'),  HumanMessage(content=\\'What is my name?\\', additional_kwargs={}, response_metadata={}, id=\\'a22ab7c5-8617-4821-b3e9-a9e7dca1ff78\\'),  AIMessage(content=\"I\\'m sorry, but I don\\'t have access to personal information about you unless you share it with me. How can I assist you today?\", additional_kwargs={\\'refusal\\': None}, response_metadata={\\'token_usage\\': {\\'completion_tokens\\': 27, \\'prompt_tokens\\': 39, \\'total_tokens\\': 66, \\'completion_tokens_details\\': {\\'reasoning_tokens\\': 0}}, \\'model_name\\': \\'gpt-4o-mini-2024-07-18\\', \\'system_fingerprint\\': \\'fp_1bb46167f9\\', \\'finish_reason\\': \\'stop\\', \\'logprobs\\': None}, id=\\'run-f7b32d72-9f57-4705-be7e-43bf1c3d293b-0\\', usage_metadata={\\'input_tokens\\': 39, \\'output_tokens\\': 27, \\'total_tokens\\': 66})]}\\nWe can see that trim_messages was called and only the two most recent messages will be passed to the model. In this case, this means that the model forgot the name we gave it.\\nCheck out our how to guide on trimming messages for more.\\nSummary memory\\u200b\\nWe can use this same pattern in other ways too. For example, we could use an additional LLM call to generate a summary of the conversation before calling our app. Let\\'s recreate our chat history:\\ndemo_ephemeral_chat_history = [    HumanMessage(content=\"Hey there! I\\'m Nemo.\"),    AIMessage(content=\"Hello!\"),    HumanMessage(content=\"How are you today?\"),    AIMessage(content=\"Fine thanks!\"),]\\nAnd now, let\\'s update the model-calling function to distill previous interactions into a summary:\\nfrom langchain_core.messages import HumanMessage, RemoveMessagefrom langgraph.checkpoint.memory import MemorySaverfrom langgraph.graph import START, MessagesState, StateGraphworkflow = StateGraph(state_schema=MessagesState)# Define the function that calls the modeldef call_model(state: MessagesState):    system_prompt = (        \"You are a helpful assistant. \"        \"Answer all questions to the best of your ability. \"        \"The provided chat history includes a summary of the earlier conversation.\"    )    system_message = SystemMessage(content=system_prompt)    message_history = state[\"messages\"][:-1]  # exclude the most recent user input    # Summarize the messages if the chat history reaches a certain size    if len(message_history) >= 4:        last_human_message = state[\"messages\"][-1]        # Invoke the model to generate conversation summary        summary_prompt = (            \"Distill the above chat messages into a single summary message. \"            \"Include as many specific details as you can.\"        )        summary_message = model.invoke(            message_history + [HumanMessage(content=summary_prompt)]        )        # Delete messages that we no longer want to show up        delete_messages = [RemoveMessage(id=m.id) for m in state[\"messages\"]]        # Re-add user message        human_message = HumanMessage(content=last_human_message.content)        # Call the model with summary & response        response = model.invoke([system_message, summary_message, human_message])        message_updates = [summary_message, human_message, response] + delete_messages    else:        message_updates = model.invoke([system_message] + state[\"messages\"])    return {\"messages\": message_updates}# Define the node and edgeworkflow.add_node(\"model\", call_model)workflow.add_edge(START, \"model\")# Add simple in-memory checkpointermemory = MemorySaver()app = workflow.compile(checkpointer=memory)API Reference:HumanMessage | RemoveMessage | MemorySaver\\nLet\\'s see if it remembers the name we gave it:\\napp.invoke(    {        \"messages\": demo_ephemeral_chat_history        + [HumanMessage(\"What did I say my name was?\")]    },    config={\"configurable\": {\"thread_id\": \"4\"}},)\\n{\\'messages\\': [AIMessage(content=\"Nemo greeted me, and I responded positively, indicating that I\\'m doing well.\", additional_kwargs={\\'refusal\\': None}, response_metadata={\\'token_usage\\': {\\'completion_tokens\\': 16, \\'prompt_tokens\\': 60, \\'total_tokens\\': 76, \\'completion_tokens_details\\': {\\'reasoning_tokens\\': 0}}, \\'model_name\\': \\'gpt-4o-mini-2024-07-18\\', \\'system_fingerprint\\': \\'fp_1bb46167f9\\', \\'finish_reason\\': \\'stop\\', \\'logprobs\\': None}, id=\\'run-ee42f98d-907d-4bad-8f16-af2db789701d-0\\', usage_metadata={\\'input_tokens\\': 60, \\'output_tokens\\': 16, \\'total_tokens\\': 76}),  HumanMessage(content=\\'What did I say my name was?\\', additional_kwargs={}, response_metadata={}, id=\\'788555ea-5b1f-4c29-a2f2-a92f15d147be\\'),  AIMessage(content=\\'You mentioned that your name is Nemo.\\', additional_kwargs={\\'refusal\\': None}, response_metadata={\\'token_usage\\': {\\'completion_tokens\\': 8, \\'prompt_tokens\\': 67, \\'total_tokens\\': 75, \\'completion_tokens_details\\': {\\'reasoning_tokens\\': 0}}, \\'model_name\\': \\'gpt-4o-mini-2024-07-18\\', \\'system_fingerprint\\': \\'fp_1bb46167f9\\', \\'finish_reason\\': \\'stop\\', \\'logprobs\\': None}, id=\\'run-099a43bd-a284-4969-bb6f-0be486614cd8-0\\', usage_metadata={\\'input_tokens\\': 67, \\'output_tokens\\': 8, \\'total_tokens\\': 75})]}\\nNote that invoking the app again will keep accumulating the history until it reaches the specified number of messages (four in our case). At that point we will generate another summary generated from the initial summary plus new messages and so on.Edit this pagePreviousHow to use a vectorstore as a retrieverNextHow to use example selectorsSetupMessage passingAutomatic history managementModifying chat historyTrimming messagesSummary memoryCommunityLangChain ForumTwitterGitHubOrganizationPythonJS/TSMoreHomepageBlogYouTubeCopyright © 2025 LangChain, Inc.\\n\\n')]"
      ]
     },
     "execution_count": 45,
     "metadata": {},
     "output_type": "execute_result"
    }
   ],
   "source": [
    "docs = loader.load()\n",
    "docs"
   ]
  },
  {
   "cell_type": "code",
   "execution_count": 46,
   "id": "1212cf78",
   "metadata": {},
   "outputs": [],
   "source": [
    "# splitting of text\n",
    "text_splitter = RecursiveCharacterTextSplitter(\n",
    "    chunk_size=600,\n",
    "    chunk_overlap=100,\n",
    "    \n",
    ")\n",
    "\n",
    "texts = text_splitter.split_documents(docs)"
   ]
  },
  {
   "cell_type": "code",
   "execution_count": 47,
   "id": "2928d414",
   "metadata": {},
   "outputs": [
    {
     "data": {
      "text/plain": [
       "[Document(metadata={'source': 'https://python.langchain.com/docs/how_to/chatbots_memory/', 'title': 'How to add memory to chatbots | 🦜️🔗 LangChain', 'description': 'A key feature of chatbots is their ability to use the content of previous conversational turns as context. This state management can take several forms, including:', 'language': 'en'}, page_content='How to add memory to chatbots | 🦜️🔗 LangChain'),\n",
       " Document(metadata={'source': 'https://python.langchain.com/docs/how_to/chatbots_memory/', 'title': 'How to add memory to chatbots | 🦜️🔗 LangChain', 'description': 'A key feature of chatbots is their ability to use the content of previous conversational turns as context. This state management can take several forms, including:', 'language': 'en'}, page_content='Skip to main contentOur Building Ambient Agents with LangGraph course is now available on LangChain Academy!IntegrationsAPI ReferenceMoreContributingPeopleError referenceLangSmithLangGraphLangChain HubLangChain JS/TSv0.3v0.3v0.2v0.1💬SearchIntroductionTutorialsBuild a Question Answering application over a Graph DatabaseTutorialsBuild a simple LLM application with chat models and prompt templatesBuild a ChatbotBuild a Retrieval Augmented Generation (RAG) App: Part 2Build an Extraction ChainBuild an AgentTaggingBuild a Retrieval Augmented Generation (RAG) App: Part 1Build a semantic search'),\n",
       " Document(metadata={'source': 'https://python.langchain.com/docs/how_to/chatbots_memory/', 'title': 'How to add memory to chatbots | 🦜️🔗 LangChain', 'description': 'A key feature of chatbots is their ability to use the content of previous conversational turns as context. This state management can take several forms, including:', 'language': 'en'}, page_content='an AgentTaggingBuild a Retrieval Augmented Generation (RAG) App: Part 1Build a semantic search engineBuild a Question/Answering system over SQL dataSummarize TextHow-to guidesHow-to guidesHow to use tools in a chainHow to use a vectorstore as a retrieverHow to add memory to chatbotsHow to use example selectorsHow to add a semantic layer over graph databaseHow to invoke runnables in parallelHow to stream chat model responsesHow to add default invocation args to a RunnableHow to add retrieval to chatbotsHow to use few shot examples in chat modelsHow to do tool/function callingHow to install'),\n",
       " Document(metadata={'source': 'https://python.langchain.com/docs/how_to/chatbots_memory/', 'title': 'How to add memory to chatbots | 🦜️🔗 LangChain', 'description': 'A key feature of chatbots is their ability to use the content of previous conversational turns as context. This state management can take several forms, including:', 'language': 'en'}, page_content='to chatbotsHow to use few shot examples in chat modelsHow to do tool/function callingHow to install LangChain packagesHow to add examples to the prompt for query analysisHow to use few shot examplesHow to run custom functionsHow to use output parsers to parse an LLM response into structured formatHow to handle cases where no queries are generatedHow to route between sub-chainsHow to return structured data from a modelHow to summarize text through parallelizationHow to summarize text through iterative refinementHow to summarize text in a single LLM callHow to use toolkitsHow to add ad-hoc tool'),\n",
       " Document(metadata={'source': 'https://python.langchain.com/docs/how_to/chatbots_memory/', 'title': 'How to add memory to chatbots | 🦜️🔗 LangChain', 'description': 'A key feature of chatbots is their ability to use the content of previous conversational turns as context. This state management can take several forms, including:', 'language': 'en'}, page_content=\"refinementHow to summarize text in a single LLM callHow to use toolkitsHow to add ad-hoc tool calling capability to LLMs and Chat ModelsBuild an Agent with AgentExecutor (Legacy)How to construct knowledge graphsHow to partially format prompt templatesHow to handle multiple queries when doing query analysisHow to use built-in tools and toolkitsHow to pass through arguments from one step to the nextHow to compose prompts togetherHow to handle multiple retrievers when doing query analysisHow to add values to a chain's stateHow to construct filters for query analysisHow to configure runtime chain\"),\n",
       " Document(metadata={'source': 'https://python.langchain.com/docs/how_to/chatbots_memory/', 'title': 'How to add memory to chatbots | 🦜️🔗 LangChain', 'description': 'A key feature of chatbots is their ability to use the content of previous conversational turns as context. This state management can take several forms, including:', 'language': 'en'}, page_content=\"values to a chain's stateHow to construct filters for query analysisHow to configure runtime chain internalsHow deal with high cardinality categoricals when doing query analysisCustom Document LoaderHow to use the MultiQueryRetrieverHow to add scores to retriever resultsCachingHow to use callbacks in async environmentsHow to attach callbacks to a runnableHow to propagate callbacks  constructorHow to dispatch custom callback eventsHow to pass callbacks in at runtimeHow to split by characterHow to cache chat model responsesHow to handle rate limitsHow to init any model in one lineHow to track\"),\n",
       " Document(metadata={'source': 'https://python.langchain.com/docs/how_to/chatbots_memory/', 'title': 'How to add memory to chatbots | 🦜️🔗 LangChain', 'description': 'A key feature of chatbots is their ability to use the content of previous conversational turns as context. This state management can take several forms, including:', 'language': 'en'}, page_content='to cache chat model responsesHow to handle rate limitsHow to init any model in one lineHow to track token usage in ChatModelsHow to add tools to chatbotsHow to split codeHow to do retrieval with contextual compressionHow to convert Runnables to ToolsHow to create custom callback handlersHow to create a custom chat model classCustom EmbeddingsHow to create a custom LLM classCustom RetrieverHow to create toolsHow to debug your LLM appsHow to load CSVsHow to load documents from a directoryHow to load HTMLHow to load JSONHow to load MarkdownHow to load Microsoft Office filesHow to load PDFsHow to'),\n",
       " Document(metadata={'source': 'https://python.langchain.com/docs/how_to/chatbots_memory/', 'title': 'How to add memory to chatbots | 🦜️🔗 LangChain', 'description': 'A key feature of chatbots is their ability to use the content of previous conversational turns as context. This state management can take several forms, including:', 'language': 'en'}, page_content='HTMLHow to load JSONHow to load MarkdownHow to load Microsoft Office filesHow to load PDFsHow to load web pagesHow to create a dynamic (self-constructing) chainText embedding modelsHow to combine results from multiple retrieversHow to select examples from a LangSmith datasetHow to select examples by lengthHow to select examples by maximal marginal relevance (MMR)How to select examples by n-gram overlapHow to select examples by similarityHow to use reference examples when doing extractionHow to handle long text when doing extractionHow to use prompting alone (no tool calling) to do'),\n",
       " Document(metadata={'source': 'https://python.langchain.com/docs/how_to/chatbots_memory/', 'title': 'How to add memory to chatbots | 🦜️🔗 LangChain', 'description': 'A key feature of chatbots is their ability to use the content of previous conversational turns as context. This state management can take several forms, including:', 'language': 'en'}, page_content='to handle long text when doing extractionHow to use prompting alone (no tool calling) to do extractionHow to add fallbacks to a runnableHow to filter messagesHybrid SearchHow to use the LangChain indexing APIHow to inspect runnablesLangChain Expression Language CheatsheetHow to cache LLM responsesHow to track token usage for LLMsRun models locallyHow to get log probabilitiesHow to reorder retrieved results to mitigate the \"lost in the middle\" effectHow to split Markdown by HeadersHow to merge consecutive messages of the same typeHow to add message historyHow to migrate from legacy LangChain'),\n",
       " Document(metadata={'source': 'https://python.langchain.com/docs/how_to/chatbots_memory/', 'title': 'How to add memory to chatbots | 🦜️🔗 LangChain', 'description': 'A key feature of chatbots is their ability to use the content of previous conversational turns as context. This state management can take several forms, including:', 'language': 'en'}, page_content='consecutive messages of the same typeHow to add message historyHow to migrate from legacy LangChain agents to LangGraphHow to retrieve using multiple vectors per documentHow to pass multimodal data to modelsHow to use multimodal promptsHow to create a custom Output ParserHow to use the output-fixing parserHow to parse JSON outputHow to retry when a parsing error occursHow to parse text from message objectsHow to parse XML outputHow to parse YAML outputHow to use the Parent Document RetrieverHow to use LangChain with different Pydantic versionsHow to add chat historyHow to get a RAG'),\n",
       " Document(metadata={'source': 'https://python.langchain.com/docs/how_to/chatbots_memory/', 'title': 'How to add memory to chatbots | 🦜️🔗 LangChain', 'description': 'A key feature of chatbots is their ability to use the content of previous conversational turns as context. This state management can take several forms, including:', 'language': 'en'}, page_content='to use LangChain with different Pydantic versionsHow to add chat historyHow to get a RAG application to add citationsHow to do per-user retrievalHow to get your RAG application to return sourcesHow to stream results from your RAG applicationHow to split JSON dataHow to recursively split text by charactersResponse metadataHow to pass runtime secrets to runnablesHow to do \"self-querying\" retrievalHow to split text based on semantic similarityHow to chain runnablesHow to save and load LangChain objectsHow to split text by tokensHow to split HTMLHow to do question answering over CSVsHow to deal'),\n",
       " Document(metadata={'source': 'https://python.langchain.com/docs/how_to/chatbots_memory/', 'title': 'How to add memory to chatbots | 🦜️🔗 LangChain', 'description': 'A key feature of chatbots is their ability to use the content of previous conversational turns as context. This state management can take several forms, including:', 'language': 'en'}, page_content='to split text by tokensHow to split HTMLHow to do question answering over CSVsHow to deal with large databases when doing SQL question-answeringHow to better prompt when doing SQL question-answeringHow to do query validation as part of SQL question-answeringHow to stream runnablesHow to stream responses from an LLMHow to use a time-weighted vector store retrieverHow to return artifacts from a toolHow to use chat models to call toolsHow to disable parallel tool callingHow to force models to call a toolHow to access the RunnableConfig from a toolHow to pass tool outputs to chat modelsHow to'),\n",
       " Document(metadata={'source': 'https://python.langchain.com/docs/how_to/chatbots_memory/', 'title': 'How to add memory to chatbots | 🦜️🔗 LangChain', 'description': 'A key feature of chatbots is their ability to use the content of previous conversational turns as context. This state management can take several forms, including:', 'language': 'en'}, page_content='a toolHow to access the RunnableConfig from a toolHow to pass tool outputs to chat modelsHow to pass run time values to toolsHow to stream events from a toolHow to stream tool callsHow to convert tools to OpenAI FunctionsHow to handle tool errorsHow to use few-shot prompting with tool callingHow to add a human-in-the-loop for toolsHow to bind model-specific toolsHow to trim messagesHow to create and query vector storesConceptual guideAgentsArchitectureAsync programming with langchainCallbacksChat historyChat modelsDocument loadersEmbedding modelsEvaluationExample selectorsFew-shot'),\n",
       " Document(metadata={'source': 'https://python.langchain.com/docs/how_to/chatbots_memory/', 'title': 'How to add memory to chatbots | 🦜️🔗 LangChain', 'description': 'A key feature of chatbots is their ability to use the content of previous conversational turns as context. This state management can take several forms, including:', 'language': 'en'}, page_content='historyChat modelsDocument loadersEmbedding modelsEvaluationExample selectorsFew-shot promptingConceptual guideKey-value storesLangChain Expression Language (LCEL)MessagesMultimodalityOutput parsersPrompt TemplatesRetrieval augmented generation (RAG)RetrievalRetrieversRunnable interfaceStreamingStructured outputsTestingString-in, string-out llmsText splittersTokensTool callingToolsTracingVector storesWhy LangChain?Ecosystem🦜🛠️ LangSmith🦜🕸️ LangGraphVersionsv0.3v0.2Pydantic compatibilityMigrating from v0.0 chainsHow to migrate from v0.0 chainsMigrating from ConstitutionalChainMigrating from'),\n",
       " Document(metadata={'source': 'https://python.langchain.com/docs/how_to/chatbots_memory/', 'title': 'How to add memory to chatbots | 🦜️🔗 LangChain', 'description': 'A key feature of chatbots is their ability to use the content of previous conversational turns as context. This state management can take several forms, including:', 'language': 'en'}, page_content='from v0.0 chainsHow to migrate from v0.0 chainsMigrating from ConstitutionalChainMigrating from ConversationalChainMigrating from ConversationalRetrievalChainMigrating from LLMChainMigrating from LLMMathChainMigrating from LLMRouterChainMigrating from MapReduceDocumentsChainMigrating from MapRerankDocumentsChainMigrating from MultiPromptChainMigrating from RefineDocumentsChainMigrating from RetrievalQAMigrating from StuffDocumentsChainUpgrading to LangGraph memoryHow to migrate to LangGraph memoryHow to use BaseChatMessageHistory with LangGraphMigrating off ConversationBufferMemory or'),\n",
       " Document(metadata={'source': 'https://python.langchain.com/docs/how_to/chatbots_memory/', 'title': 'How to add memory to chatbots | 🦜️🔗 LangChain', 'description': 'A key feature of chatbots is their ability to use the content of previous conversational turns as context. This state management can take several forms, including:', 'language': 'en'}, page_content='memoryHow to use BaseChatMessageHistory with LangGraphMigrating off ConversationBufferMemory or ConversationStringBufferMemoryMigrating off ConversationBufferWindowMemory or ConversationTokenBufferMemoryMigrating off ConversationSummaryMemory or ConversationSummaryBufferMemoryA Long-Term Memory AgentRelease policySecurity PolicyHow-to guidesHow to add memory to chatbotsOn this pageHow to add memory to chatbots'),\n",
       " Document(metadata={'source': 'https://python.langchain.com/docs/how_to/chatbots_memory/', 'title': 'How to add memory to chatbots | 🦜️🔗 LangChain', 'description': 'A key feature of chatbots is their ability to use the content of previous conversational turns as context. This state management can take several forms, including:', 'language': 'en'}, page_content='A key feature of chatbots is their ability to use the content of previous conversational turns as context. This state management can take several forms, including:'),\n",
       " Document(metadata={'source': 'https://python.langchain.com/docs/how_to/chatbots_memory/', 'title': 'How to add memory to chatbots | 🦜️🔗 LangChain', 'description': 'A key feature of chatbots is their ability to use the content of previous conversational turns as context. This state management can take several forms, including:', 'language': 'en'}, page_content='Simply stuffing previous messages into a chat model prompt.\\nThe above, but trimming old messages to reduce the amount of distracting information the model has to deal with.\\nMore complex modifications like synthesizing summaries for long running conversations.'),\n",
       " Document(metadata={'source': 'https://python.langchain.com/docs/how_to/chatbots_memory/', 'title': 'How to add memory to chatbots | 🦜️🔗 LangChain', 'description': 'A key feature of chatbots is their ability to use the content of previous conversational turns as context. This state management can take several forms, including:', 'language': 'en'}, page_content=\"We'll go into more detail on a few techniques below!\"),\n",
       " Document(metadata={'source': 'https://python.langchain.com/docs/how_to/chatbots_memory/', 'title': 'How to add memory to chatbots | 🦜️🔗 LangChain', 'description': 'A key feature of chatbots is their ability to use the content of previous conversational turns as context. This state management can take several forms, including:', 'language': 'en'}, page_content='noteThis how-to guide previously built a chatbot using RunnableWithMessageHistory. You can access this version of the guide in the v0.2 docs.As of the v0.3 release of LangChain, we recommend that LangChain users take advantage of LangGraph persistence to incorporate memory into new LangChain applications.If your code is already relying on RunnableWithMessageHistory or BaseChatMessageHistory, you do not need to make any changes. We do not plan on deprecating this functionality in the near future as it works for simple chat applications and any code that uses RunnableWithMessageHistory will'),\n",
       " Document(metadata={'source': 'https://python.langchain.com/docs/how_to/chatbots_memory/', 'title': 'How to add memory to chatbots | 🦜️🔗 LangChain', 'description': 'A key feature of chatbots is their ability to use the content of previous conversational turns as context. This state management can take several forms, including:', 'language': 'en'}, page_content='as it works for simple chat applications and any code that uses RunnableWithMessageHistory will continue to work as expected.Please see How to migrate to LangGraph Memory for more details.'),\n",
       " Document(metadata={'source': 'https://python.langchain.com/docs/how_to/chatbots_memory/', 'title': 'How to add memory to chatbots | 🦜️🔗 LangChain', 'description': 'A key feature of chatbots is their ability to use the content of previous conversational turns as context. This state management can take several forms, including:', 'language': 'en'}, page_content='Setup\\u200b\\nYou\\'ll need to install a few packages, and have your OpenAI API key set as an environment variable named OPENAI_API_KEY:\\n%pip install --upgrade --quiet langchain langchain-openai langgraphimport getpassimport osif not os.environ.get(\"OPENAI_API_KEY\"):    os.environ[\"OPENAI_API_KEY\"] = getpass.getpass(\"OpenAI API Key:\")\\nOpenAI API Key: ········\\nLet\\'s also set up a chat model that we\\'ll use for the below examples.\\nfrom langchain_openai import ChatOpenAImodel = ChatOpenAI(model=\"gpt-4o-mini\")API Reference:ChatOpenAI\\nMessage passing\\u200b'),\n",
       " Document(metadata={'source': 'https://python.langchain.com/docs/how_to/chatbots_memory/', 'title': 'How to add memory to chatbots | 🦜️🔗 LangChain', 'description': 'A key feature of chatbots is their ability to use the content of previous conversational turns as context. This state management can take several forms, including:', 'language': 'en'}, page_content=\"Message passing\\u200b\\nThe simplest form of memory is simply passing chat history messages into a chain. Here's an example:\"),\n",
       " Document(metadata={'source': 'https://python.langchain.com/docs/how_to/chatbots_memory/', 'title': 'How to add memory to chatbots | 🦜️🔗 LangChain', 'description': 'A key feature of chatbots is their ability to use the content of previous conversational turns as context. This state management can take several forms, including:', 'language': 'en'}, page_content='from langchain_core.messages import AIMessage, HumanMessage, SystemMessagefrom langchain_core.prompts import ChatPromptTemplate, MessagesPlaceholderprompt = ChatPromptTemplate.from_messages(    [        SystemMessage(            content=\"You are a helpful assistant. Answer all questions to the best of your ability.\"        ),        MessagesPlaceholder(variable_name=\"messages\"),    ])chain = prompt | modelai_msg = chain.invoke(    {        \"messages\": [            HumanMessage(                content=\"Translate from English to French: I love programming.\"            ),'),\n",
       " Document(metadata={'source': 'https://python.langchain.com/docs/how_to/chatbots_memory/', 'title': 'How to add memory to chatbots | 🦜️🔗 LangChain', 'description': 'A key feature of chatbots is their ability to use the content of previous conversational turns as context. This state management can take several forms, including:', 'language': 'en'}, page_content='content=\"Translate from English to French: I love programming.\"            ),            AIMessage(content=\"J\\'adore la programmation.\"),            HumanMessage(content=\"What did you just say?\"),        ],    })print(ai_msg.content)API Reference:AIMessage | HumanMessage | SystemMessage | ChatPromptTemplate | MessagesPlaceholder'),\n",
       " Document(metadata={'source': 'https://python.langchain.com/docs/how_to/chatbots_memory/', 'title': 'How to add memory to chatbots | 🦜️🔗 LangChain', 'description': 'A key feature of chatbots is their ability to use the content of previous conversational turns as context. This state management can take several forms, including:', 'language': 'en'}, page_content='I said, \"I love programming\" in French: \"J\\'adore la programmation.\"\\nWe can see that by passing the previous conversation into a chain, it can use it as context to answer questions. This is the basic concept underpinning chatbot memory - the rest of the guide will demonstrate convenient techniques for passing or reformatting messages.\\nAutomatic history management\\u200b'),\n",
       " Document(metadata={'source': 'https://python.langchain.com/docs/how_to/chatbots_memory/', 'title': 'How to add memory to chatbots | 🦜️🔗 LangChain', 'description': 'A key feature of chatbots is their ability to use the content of previous conversational turns as context. This state management can take several forms, including:', 'language': 'en'}, page_content=\"Automatic history management\\u200b\\nThe previous examples pass messages to the chain (and model) explicitly. This is a completely acceptable approach, but it does require external management of new messages. LangChain also provides a way to build applications that have memory using LangGraph's persistence. You can enable persistence in LangGraph applications by providing a checkpointer when compiling the graph.\"),\n",
       " Document(metadata={'source': 'https://python.langchain.com/docs/how_to/chatbots_memory/', 'title': 'How to add memory to chatbots | 🦜️🔗 LangChain', 'description': 'A key feature of chatbots is their ability to use the content of previous conversational turns as context. This state management can take several forms, including:', 'language': 'en'}, page_content='from langgraph.checkpoint.memory import MemorySaverfrom langgraph.graph import START, MessagesState, StateGraphworkflow = StateGraph(state_schema=MessagesState)# Define the function that calls the modeldef call_model(state: MessagesState):    system_prompt = (        \"You are a helpful assistant. \"        \"Answer all questions to the best of your ability.\"    )    messages = [SystemMessage(content=system_prompt)] + state[\"messages\"]    response = model.invoke(messages)    return {\"messages\": response}# Define the node and edgeworkflow.add_node(\"model\", call_model)workflow.add_edge(START,'),\n",
       " Document(metadata={'source': 'https://python.langchain.com/docs/how_to/chatbots_memory/', 'title': 'How to add memory to chatbots | 🦜️🔗 LangChain', 'description': 'A key feature of chatbots is their ability to use the content of previous conversational turns as context. This state management can take several forms, including:', 'language': 'en'}, page_content='response}# Define the node and edgeworkflow.add_node(\"model\", call_model)workflow.add_edge(START, \"model\")# Add simple in-memory checkpointermemory = MemorySaver()app = workflow.compile(checkpointer=memory)API Reference:MemorySaver'),\n",
       " Document(metadata={'source': 'https://python.langchain.com/docs/how_to/chatbots_memory/', 'title': 'How to add memory to chatbots | 🦜️🔗 LangChain', 'description': 'A key feature of chatbots is their ability to use the content of previous conversational turns as context. This state management can take several forms, including:', 'language': 'en'}, page_content='We\\'ll pass the latest input to the conversation here and let LangGraph keep track of the conversation history using the checkpointer:\\napp.invoke(    {\"messages\": [HumanMessage(content=\"Translate to French: I love programming.\")]},    config={\"configurable\": {\"thread_id\": \"1\"}},)'),\n",
       " Document(metadata={'source': 'https://python.langchain.com/docs/how_to/chatbots_memory/', 'title': 'How to add memory to chatbots | 🦜️🔗 LangChain', 'description': 'A key feature of chatbots is their ability to use the content of previous conversational turns as context. This state management can take several forms, including:', 'language': 'en'}, page_content='{\\'messages\\': [HumanMessage(content=\\'Translate to French: I love programming.\\', additional_kwargs={}, response_metadata={}, id=\\'be5e7099-3149-4293-af49-6b36c8ccd71b\\'),  AIMessage(content=\"J\\'aime programmer.\", additional_kwargs={\\'refusal\\': None}, response_metadata={\\'token_usage\\': {\\'completion_tokens\\': 4, \\'prompt_tokens\\': 35, \\'total_tokens\\': 39, \\'completion_tokens_details\\': {\\'reasoning_tokens\\': 0}}, \\'model_name\\': \\'gpt-4o-mini-2024-07-18\\', \\'system_fingerprint\\': \\'fp_e9627b5346\\', \\'finish_reason\\': \\'stop\\', \\'logprobs\\': None}, id=\\'run-8a753d7a-b97b-4d01-a661-626be6f41b38-0\\','),\n",
       " Document(metadata={'source': 'https://python.langchain.com/docs/how_to/chatbots_memory/', 'title': 'How to add memory to chatbots | 🦜️🔗 LangChain', 'description': 'A key feature of chatbots is their ability to use the content of previous conversational turns as context. This state management can take several forms, including:', 'language': 'en'}, page_content=\"'finish_reason': 'stop', 'logprobs': None}, id='run-8a753d7a-b97b-4d01-a661-626be6f41b38-0', usage_metadata={'input_tokens': 35, 'output_tokens': 4, 'total_tokens': 39})]}\"),\n",
       " Document(metadata={'source': 'https://python.langchain.com/docs/how_to/chatbots_memory/', 'title': 'How to add memory to chatbots | 🦜️🔗 LangChain', 'description': 'A key feature of chatbots is their ability to use the content of previous conversational turns as context. This state management can take several forms, including:', 'language': 'en'}, page_content='app.invoke(    {\"messages\": [HumanMessage(content=\"What did I just ask you?\")]},    config={\"configurable\": {\"thread_id\": \"1\"}},)'),\n",
       " Document(metadata={'source': 'https://python.langchain.com/docs/how_to/chatbots_memory/', 'title': 'How to add memory to chatbots | 🦜️🔗 LangChain', 'description': 'A key feature of chatbots is their ability to use the content of previous conversational turns as context. This state management can take several forms, including:', 'language': 'en'}, page_content='{\\'messages\\': [HumanMessage(content=\\'Translate to French: I love programming.\\', additional_kwargs={}, response_metadata={}, id=\\'be5e7099-3149-4293-af49-6b36c8ccd71b\\'),  AIMessage(content=\"J\\'aime programmer.\", additional_kwargs={\\'refusal\\': None}, response_metadata={\\'token_usage\\': {\\'completion_tokens\\': 4, \\'prompt_tokens\\': 35, \\'total_tokens\\': 39, \\'completion_tokens_details\\': {\\'reasoning_tokens\\': 0}}, \\'model_name\\': \\'gpt-4o-mini-2024-07-18\\', \\'system_fingerprint\\': \\'fp_e9627b5346\\', \\'finish_reason\\': \\'stop\\', \\'logprobs\\': None}, id=\\'run-8a753d7a-b97b-4d01-a661-626be6f41b38-0\\','),\n",
       " Document(metadata={'source': 'https://python.langchain.com/docs/how_to/chatbots_memory/', 'title': 'How to add memory to chatbots | 🦜️🔗 LangChain', 'description': 'A key feature of chatbots is their ability to use the content of previous conversational turns as context. This state management can take several forms, including:', 'language': 'en'}, page_content='\\'finish_reason\\': \\'stop\\', \\'logprobs\\': None}, id=\\'run-8a753d7a-b97b-4d01-a661-626be6f41b38-0\\', usage_metadata={\\'input_tokens\\': 35, \\'output_tokens\\': 4, \\'total_tokens\\': 39}),  HumanMessage(content=\\'What did I just ask you?\\', additional_kwargs={}, response_metadata={}, id=\\'c667529b-7c41-4cc0-9326-0af47328b816\\'),  AIMessage(content=\\'You asked me to translate \"I love programming\" into French.\\', additional_kwargs={\\'refusal\\': None}, response_metadata={\\'token_usage\\': {\\'completion_tokens\\': 13, \\'prompt_tokens\\': 54, \\'total_tokens\\': 67, \\'completion_tokens_details\\': {\\'reasoning_tokens\\': 0}}, \\'model_name\\':'),\n",
       " Document(metadata={'source': 'https://python.langchain.com/docs/how_to/chatbots_memory/', 'title': 'How to add memory to chatbots | 🦜️🔗 LangChain', 'description': 'A key feature of chatbots is their ability to use the content of previous conversational turns as context. This state management can take several forms, including:', 'language': 'en'}, page_content=\"54, 'total_tokens': 67, 'completion_tokens_details': {'reasoning_tokens': 0}}, 'model_name': 'gpt-4o-mini-2024-07-18', 'system_fingerprint': 'fp_1bb46167f9', 'finish_reason': 'stop', 'logprobs': None}, id='run-134a7ea0-d3a4-4923-bd58-25e5a43f6a1f-0', usage_metadata={'input_tokens': 54, 'output_tokens': 13, 'total_tokens': 67})]}\"),\n",
       " Document(metadata={'source': 'https://python.langchain.com/docs/how_to/chatbots_memory/', 'title': 'How to add memory to chatbots | 🦜️🔗 LangChain', 'description': 'A key feature of chatbots is their ability to use the content of previous conversational turns as context. This state management can take several forms, including:', 'language': 'en'}, page_content=\"Modifying chat history\\u200b\\nModifying stored chat messages can help your chatbot handle a variety of situations. Here are some examples:\\nTrimming messages\\u200b\\nLLMs and chat models have limited context windows, and even if you're not directly hitting limits, you may want to limit the amount of distraction the model has to deal with. One solution is trim the history messages before passing them to the model. Let's use an example history with the app we declared above:\"),\n",
       " Document(metadata={'source': 'https://python.langchain.com/docs/how_to/chatbots_memory/', 'title': 'How to add memory to chatbots | 🦜️🔗 LangChain', 'description': 'A key feature of chatbots is their ability to use the content of previous conversational turns as context. This state management can take several forms, including:', 'language': 'en'}, page_content='demo_ephemeral_chat_history = [    HumanMessage(content=\"Hey there! I\\'m Nemo.\"),    AIMessage(content=\"Hello!\"),    HumanMessage(content=\"How are you today?\"),    AIMessage(content=\"Fine thanks!\"),]app.invoke(    {        \"messages\": demo_ephemeral_chat_history        + [HumanMessage(content=\"What\\'s my name?\")]    },    config={\"configurable\": {\"thread_id\": \"2\"}},)'),\n",
       " Document(metadata={'source': 'https://python.langchain.com/docs/how_to/chatbots_memory/', 'title': 'How to add memory to chatbots | 🦜️🔗 LangChain', 'description': 'A key feature of chatbots is their ability to use the content of previous conversational turns as context. This state management can take several forms, including:', 'language': 'en'}, page_content='{\\'messages\\': [HumanMessage(content=\"Hey there! I\\'m Nemo.\", additional_kwargs={}, response_metadata={}, id=\\'6b4cab70-ce18-49b0-bb06-267bde44e037\\'),  AIMessage(content=\\'Hello!\\', additional_kwargs={}, response_metadata={}, id=\\'ba3714f4-8876-440b-a651-efdcab2fcb4c\\'),  HumanMessage(content=\\'How are you today?\\', additional_kwargs={}, response_metadata={}, id=\\'08d032c0-1577-4862-a3f2-5c1b90687e21\\'),  AIMessage(content=\\'Fine thanks!\\', additional_kwargs={}, response_metadata={}, id=\\'21790e16-db05-4537-9a6b-ecad0fcec436\\'),  HumanMessage(content=\"What\\'s my name?\", additional_kwargs={},'),\n",
       " Document(metadata={'source': 'https://python.langchain.com/docs/how_to/chatbots_memory/', 'title': 'How to add memory to chatbots | 🦜️🔗 LangChain', 'description': 'A key feature of chatbots is their ability to use the content of previous conversational turns as context. This state management can take several forms, including:', 'language': 'en'}, page_content='HumanMessage(content=\"What\\'s my name?\", additional_kwargs={}, response_metadata={}, id=\\'c933eca3-5fd8-4651-af16-20fe2d49c216\\'),  AIMessage(content=\\'Your name is Nemo.\\', additional_kwargs={\\'refusal\\': None}, response_metadata={\\'token_usage\\': {\\'completion_tokens\\': 5, \\'prompt_tokens\\': 63, \\'total_tokens\\': 68, \\'completion_tokens_details\\': {\\'reasoning_tokens\\': 0}}, \\'model_name\\': \\'gpt-4o-mini-2024-07-18\\', \\'system_fingerprint\\': \\'fp_1bb46167f9\\', \\'finish_reason\\': \\'stop\\', \\'logprobs\\': None}, id=\\'run-a0b21acc-9dbb-4fb6-a953-392020f37d88-0\\', usage_metadata={\\'input_tokens\\': 63, \\'output_tokens\\': 5,'),\n",
       " Document(metadata={'source': 'https://python.langchain.com/docs/how_to/chatbots_memory/', 'title': 'How to add memory to chatbots | 🦜️🔗 LangChain', 'description': 'A key feature of chatbots is their ability to use the content of previous conversational turns as context. This state management can take several forms, including:', 'language': 'en'}, page_content=\"usage_metadata={'input_tokens': 63, 'output_tokens': 5, 'total_tokens': 68})]}\"),\n",
       " Document(metadata={'source': 'https://python.langchain.com/docs/how_to/chatbots_memory/', 'title': 'How to add memory to chatbots | 🦜️🔗 LangChain', 'description': 'A key feature of chatbots is their ability to use the content of previous conversational turns as context. This state management can take several forms, including:', 'language': 'en'}, page_content='We can see the app remembers the preloaded name.\\nBut let\\'s say we have a very small context window, and we want to trim the number of messages passed to the model to only the 2 most recent ones. We can use the built in trim_messages util to trim messages based on their token count before they reach our prompt. In this case we\\'ll count each message as 1 \"token\" and keep only the last two messages:'),\n",
       " Document(metadata={'source': 'https://python.langchain.com/docs/how_to/chatbots_memory/', 'title': 'How to add memory to chatbots | 🦜️🔗 LangChain', 'description': 'A key feature of chatbots is their ability to use the content of previous conversational turns as context. This state management can take several forms, including:', 'language': 'en'}, page_content='from langchain_core.messages import trim_messagesfrom langgraph.checkpoint.memory import MemorySaverfrom langgraph.graph import START, MessagesState, StateGraph# Define trimmer# count each message as 1 \"token\" (token_counter=len) and keep only the last two messagestrimmer = trim_messages(strategy=\"last\", max_tokens=2, token_counter=len)workflow = StateGraph(state_schema=MessagesState)# Define the function that calls the modeldef call_model(state: MessagesState):    trimmed_messages = trimmer.invoke(state[\"messages\"])    system_prompt = (        \"You are a helpful assistant. \"        \"Answer'),\n",
       " Document(metadata={'source': 'https://python.langchain.com/docs/how_to/chatbots_memory/', 'title': 'How to add memory to chatbots | 🦜️🔗 LangChain', 'description': 'A key feature of chatbots is their ability to use the content of previous conversational turns as context. This state management can take several forms, including:', 'language': 'en'}, page_content='system_prompt = (        \"You are a helpful assistant. \"        \"Answer all questions to the best of your ability.\"    )    messages = [SystemMessage(content=system_prompt)] + trimmed_messages    response = model.invoke(messages)    return {\"messages\": response}# Define the node and edgeworkflow.add_node(\"model\", call_model)workflow.add_edge(START, \"model\")# Add simple in-memory checkpointermemory = MemorySaver()app = workflow.compile(checkpointer=memory)API Reference:trim_messages | MemorySaver'),\n",
       " Document(metadata={'source': 'https://python.langchain.com/docs/how_to/chatbots_memory/', 'title': 'How to add memory to chatbots | 🦜️🔗 LangChain', 'description': 'A key feature of chatbots is their ability to use the content of previous conversational turns as context. This state management can take several forms, including:', 'language': 'en'}, page_content='Let\\'s call this new app and check the response\\napp.invoke(    {        \"messages\": demo_ephemeral_chat_history        + [HumanMessage(content=\"What is my name?\")]    },    config={\"configurable\": {\"thread_id\": \"3\"}},)'),\n",
       " Document(metadata={'source': 'https://python.langchain.com/docs/how_to/chatbots_memory/', 'title': 'How to add memory to chatbots | 🦜️🔗 LangChain', 'description': 'A key feature of chatbots is their ability to use the content of previous conversational turns as context. This state management can take several forms, including:', 'language': 'en'}, page_content='{\\'messages\\': [HumanMessage(content=\"Hey there! I\\'m Nemo.\", additional_kwargs={}, response_metadata={}, id=\\'6b4cab70-ce18-49b0-bb06-267bde44e037\\'),  AIMessage(content=\\'Hello!\\', additional_kwargs={}, response_metadata={}, id=\\'ba3714f4-8876-440b-a651-efdcab2fcb4c\\'),  HumanMessage(content=\\'How are you today?\\', additional_kwargs={}, response_metadata={}, id=\\'08d032c0-1577-4862-a3f2-5c1b90687e21\\'),  AIMessage(content=\\'Fine thanks!\\', additional_kwargs={}, response_metadata={}, id=\\'21790e16-db05-4537-9a6b-ecad0fcec436\\'),  HumanMessage(content=\\'What is my name?\\', additional_kwargs={},'),\n",
       " Document(metadata={'source': 'https://python.langchain.com/docs/how_to/chatbots_memory/', 'title': 'How to add memory to chatbots | 🦜️🔗 LangChain', 'description': 'A key feature of chatbots is their ability to use the content of previous conversational turns as context. This state management can take several forms, including:', 'language': 'en'}, page_content='HumanMessage(content=\\'What is my name?\\', additional_kwargs={}, response_metadata={}, id=\\'a22ab7c5-8617-4821-b3e9-a9e7dca1ff78\\'),  AIMessage(content=\"I\\'m sorry, but I don\\'t have access to personal information about you unless you share it with me. How can I assist you today?\", additional_kwargs={\\'refusal\\': None}, response_metadata={\\'token_usage\\': {\\'completion_tokens\\': 27, \\'prompt_tokens\\': 39, \\'total_tokens\\': 66, \\'completion_tokens_details\\': {\\'reasoning_tokens\\': 0}}, \\'model_name\\': \\'gpt-4o-mini-2024-07-18\\', \\'system_fingerprint\\': \\'fp_1bb46167f9\\', \\'finish_reason\\': \\'stop\\', \\'logprobs\\': None},'),\n",
       " Document(metadata={'source': 'https://python.langchain.com/docs/how_to/chatbots_memory/', 'title': 'How to add memory to chatbots | 🦜️🔗 LangChain', 'description': 'A key feature of chatbots is their ability to use the content of previous conversational turns as context. This state management can take several forms, including:', 'language': 'en'}, page_content=\"'system_fingerprint': 'fp_1bb46167f9', 'finish_reason': 'stop', 'logprobs': None}, id='run-f7b32d72-9f57-4705-be7e-43bf1c3d293b-0', usage_metadata={'input_tokens': 39, 'output_tokens': 27, 'total_tokens': 66})]}\"),\n",
       " Document(metadata={'source': 'https://python.langchain.com/docs/how_to/chatbots_memory/', 'title': 'How to add memory to chatbots | 🦜️🔗 LangChain', 'description': 'A key feature of chatbots is their ability to use the content of previous conversational turns as context. This state management can take several forms, including:', 'language': 'en'}, page_content=\"We can see that trim_messages was called and only the two most recent messages will be passed to the model. In this case, this means that the model forgot the name we gave it.\\nCheck out our how to guide on trimming messages for more.\\nSummary memory\\u200b\\nWe can use this same pattern in other ways too. For example, we could use an additional LLM call to generate a summary of the conversation before calling our app. Let's recreate our chat history:\"),\n",
       " Document(metadata={'source': 'https://python.langchain.com/docs/how_to/chatbots_memory/', 'title': 'How to add memory to chatbots | 🦜️🔗 LangChain', 'description': 'A key feature of chatbots is their ability to use the content of previous conversational turns as context. This state management can take several forms, including:', 'language': 'en'}, page_content='demo_ephemeral_chat_history = [    HumanMessage(content=\"Hey there! I\\'m Nemo.\"),    AIMessage(content=\"Hello!\"),    HumanMessage(content=\"How are you today?\"),    AIMessage(content=\"Fine thanks!\"),]\\nAnd now, let\\'s update the model-calling function to distill previous interactions into a summary:'),\n",
       " Document(metadata={'source': 'https://python.langchain.com/docs/how_to/chatbots_memory/', 'title': 'How to add memory to chatbots | 🦜️🔗 LangChain', 'description': 'A key feature of chatbots is their ability to use the content of previous conversational turns as context. This state management can take several forms, including:', 'language': 'en'}, page_content='from langchain_core.messages import HumanMessage, RemoveMessagefrom langgraph.checkpoint.memory import MemorySaverfrom langgraph.graph import START, MessagesState, StateGraphworkflow = StateGraph(state_schema=MessagesState)# Define the function that calls the modeldef call_model(state: MessagesState):    system_prompt = (        \"You are a helpful assistant. \"        \"Answer all questions to the best of your ability. \"        \"The provided chat history includes a summary of the earlier conversation.\"    )    system_message = SystemMessage(content=system_prompt)    message_history ='),\n",
       " Document(metadata={'source': 'https://python.langchain.com/docs/how_to/chatbots_memory/', 'title': 'How to add memory to chatbots | 🦜️🔗 LangChain', 'description': 'A key feature of chatbots is their ability to use the content of previous conversational turns as context. This state management can take several forms, including:', 'language': 'en'}, page_content='conversation.\"    )    system_message = SystemMessage(content=system_prompt)    message_history = state[\"messages\"][:-1]  # exclude the most recent user input    # Summarize the messages if the chat history reaches a certain size    if len(message_history) >= 4:        last_human_message = state[\"messages\"][-1]        # Invoke the model to generate conversation summary        summary_prompt = (            \"Distill the above chat messages into a single summary message. \"            \"Include as many specific details as you can.\"        )        summary_message = model.invoke('),\n",
       " Document(metadata={'source': 'https://python.langchain.com/docs/how_to/chatbots_memory/', 'title': 'How to add memory to chatbots | 🦜️🔗 LangChain', 'description': 'A key feature of chatbots is their ability to use the content of previous conversational turns as context. This state management can take several forms, including:', 'language': 'en'}, page_content='as many specific details as you can.\"        )        summary_message = model.invoke(            message_history + [HumanMessage(content=summary_prompt)]        )        # Delete messages that we no longer want to show up        delete_messages = [RemoveMessage(id=m.id) for m in state[\"messages\"]]        # Re-add user message        human_message = HumanMessage(content=last_human_message.content)        # Call the model with summary & response        response = model.invoke([system_message, summary_message, human_message])        message_updates = [summary_message, human_message, response] +'),\n",
       " Document(metadata={'source': 'https://python.langchain.com/docs/how_to/chatbots_memory/', 'title': 'How to add memory to chatbots | 🦜️🔗 LangChain', 'description': 'A key feature of chatbots is their ability to use the content of previous conversational turns as context. This state management can take several forms, including:', 'language': 'en'}, page_content='human_message])        message_updates = [summary_message, human_message, response] + delete_messages    else:        message_updates = model.invoke([system_message] + state[\"messages\"])    return {\"messages\": message_updates}# Define the node and edgeworkflow.add_node(\"model\", call_model)workflow.add_edge(START, \"model\")# Add simple in-memory checkpointermemory = MemorySaver()app = workflow.compile(checkpointer=memory)API Reference:HumanMessage | RemoveMessage | MemorySaver'),\n",
       " Document(metadata={'source': 'https://python.langchain.com/docs/how_to/chatbots_memory/', 'title': 'How to add memory to chatbots | 🦜️🔗 LangChain', 'description': 'A key feature of chatbots is their ability to use the content of previous conversational turns as context. This state management can take several forms, including:', 'language': 'en'}, page_content='Let\\'s see if it remembers the name we gave it:\\napp.invoke(    {        \"messages\": demo_ephemeral_chat_history        + [HumanMessage(\"What did I say my name was?\")]    },    config={\"configurable\": {\"thread_id\": \"4\"}},)'),\n",
       " Document(metadata={'source': 'https://python.langchain.com/docs/how_to/chatbots_memory/', 'title': 'How to add memory to chatbots | 🦜️🔗 LangChain', 'description': 'A key feature of chatbots is their ability to use the content of previous conversational turns as context. This state management can take several forms, including:', 'language': 'en'}, page_content='{\\'messages\\': [AIMessage(content=\"Nemo greeted me, and I responded positively, indicating that I\\'m doing well.\", additional_kwargs={\\'refusal\\': None}, response_metadata={\\'token_usage\\': {\\'completion_tokens\\': 16, \\'prompt_tokens\\': 60, \\'total_tokens\\': 76, \\'completion_tokens_details\\': {\\'reasoning_tokens\\': 0}}, \\'model_name\\': \\'gpt-4o-mini-2024-07-18\\', \\'system_fingerprint\\': \\'fp_1bb46167f9\\', \\'finish_reason\\': \\'stop\\', \\'logprobs\\': None}, id=\\'run-ee42f98d-907d-4bad-8f16-af2db789701d-0\\', usage_metadata={\\'input_tokens\\': 60, \\'output_tokens\\': 16, \\'total_tokens\\': 76}),  HumanMessage(content=\\'What did I say my'),\n",
       " Document(metadata={'source': 'https://python.langchain.com/docs/how_to/chatbots_memory/', 'title': 'How to add memory to chatbots | 🦜️🔗 LangChain', 'description': 'A key feature of chatbots is their ability to use the content of previous conversational turns as context. This state management can take several forms, including:', 'language': 'en'}, page_content=\"60, 'output_tokens': 16, 'total_tokens': 76}),  HumanMessage(content='What did I say my name was?', additional_kwargs={}, response_metadata={}, id='788555ea-5b1f-4c29-a2f2-a92f15d147be'),  AIMessage(content='You mentioned that your name is Nemo.', additional_kwargs={'refusal': None}, response_metadata={'token_usage': {'completion_tokens': 8, 'prompt_tokens': 67, 'total_tokens': 75, 'completion_tokens_details': {'reasoning_tokens': 0}}, 'model_name': 'gpt-4o-mini-2024-07-18', 'system_fingerprint': 'fp_1bb46167f9', 'finish_reason': 'stop', 'logprobs': None},\"),\n",
       " Document(metadata={'source': 'https://python.langchain.com/docs/how_to/chatbots_memory/', 'title': 'How to add memory to chatbots | 🦜️🔗 LangChain', 'description': 'A key feature of chatbots is their ability to use the content of previous conversational turns as context. This state management can take several forms, including:', 'language': 'en'}, page_content=\"'system_fingerprint': 'fp_1bb46167f9', 'finish_reason': 'stop', 'logprobs': None}, id='run-099a43bd-a284-4969-bb6f-0be486614cd8-0', usage_metadata={'input_tokens': 67, 'output_tokens': 8, 'total_tokens': 75})]}\"),\n",
       " Document(metadata={'source': 'https://python.langchain.com/docs/how_to/chatbots_memory/', 'title': 'How to add memory to chatbots | 🦜️🔗 LangChain', 'description': 'A key feature of chatbots is their ability to use the content of previous conversational turns as context. This state management can take several forms, including:', 'language': 'en'}, page_content='Note that invoking the app again will keep accumulating the history until it reaches the specified number of messages (four in our case). At that point we will generate another summary generated from the initial summary plus new messages and so on.Edit this pagePreviousHow to use a vectorstore as a retrieverNextHow to use example selectorsSetupMessage passingAutomatic history managementModifying chat historyTrimming messagesSummary memoryCommunityLangChain ForumTwitterGitHubOrganizationPythonJS/TSMoreHomepageBlogYouTubeCopyright © 2025 LangChain, Inc.')]"
      ]
     },
     "execution_count": 47,
     "metadata": {},
     "output_type": "execute_result"
    }
   ],
   "source": [
    "texts"
   ]
  },
  {
   "cell_type": "code",
   "execution_count": 48,
   "id": "40f232dd",
   "metadata": {},
   "outputs": [],
   "source": [
    "# google chatmodel \n",
    "llm = ChatGoogleGenerativeAI(\n",
    "    model=\"gemini-2.0-flash\",\n",
    ")\n",
    "\n",
    "# google Embedding Model \n",
    "embeddings = GoogleGenerativeAIEmbeddings(model=\"models/embedding-001\")"
   ]
  },
  {
   "cell_type": "code",
   "execution_count": 49,
   "id": "639783e8",
   "metadata": {},
   "outputs": [
    {
     "data": {
      "text/plain": [
       "['9ad631fc-9129-4140-9ba1-55a0bbb8c160',\n",
       " '47bfa3f3-f4c8-4411-93ac-ada690c63ca7',\n",
       " '676198c6-1c94-4ec5-bc0a-00e8790e5b15',\n",
       " 'f77a6543-2514-4970-abfc-c701d9c90b5b',\n",
       " 'f97c5653-3faa-4d1d-8fef-25c933bcf321',\n",
       " '257677cd-b236-456a-bb13-4271478c7f93',\n",
       " 'a10cd597-d7a8-4b42-ba06-1668886d1ad0',\n",
       " '9cfe0c07-2c0c-4880-9583-dedac37c2423',\n",
       " '7fe5a600-03db-44e4-a346-5e99f9b8ff68',\n",
       " '94998ddf-63bc-4f7c-a641-7af6e15f1971',\n",
       " '8a22d507-ffec-484d-acc4-f13128839e71',\n",
       " '551eb66d-4201-4b7c-b1bb-bc888371b8ce',\n",
       " '833981dd-88e6-4db5-afd8-a78d1daed105',\n",
       " '378a3283-9d66-48bc-983e-45ac424f709e',\n",
       " '991e9fb2-2691-4306-b4d7-577db2e178fc',\n",
       " 'c7f57e06-38b5-48d9-ac99-1f9a644ee9fb',\n",
       " '9cdbf20b-8b29-41d6-972e-1926c5c5d348',\n",
       " 'ca293178-2695-47ba-9a05-17afe8b7efab',\n",
       " '44f8a989-0595-4732-bf88-8e22f6cc68db',\n",
       " '67ff2dea-a059-4c7a-90b8-69e13cd7b798',\n",
       " '8de409d5-4462-439b-b50d-e0294b932f5b',\n",
       " '532a38d4-726c-4bab-bc56-0ba7056ce152',\n",
       " 'f08ddfca-e8f3-46e8-a237-2597bdd189bb',\n",
       " 'c7910ceb-92fe-49cb-a176-9ec43b7781e9',\n",
       " '874bc4de-894a-4850-becb-770bd58c6561',\n",
       " '1d1656b0-458f-45b2-b664-2ddc44bf7c37',\n",
       " 'ca8d2e2b-eba0-4152-87c2-8eeac9ac3371',\n",
       " '6bece8b2-0ae5-490d-bcf4-b8554e84e606',\n",
       " 'b4360b8b-f20e-4e0e-8948-aa7a4f5543fe',\n",
       " '7813799e-1f0f-44b2-98ca-00820fe5a9b9',\n",
       " 'f75a4044-1a89-4422-813e-d4c1a8197f67',\n",
       " '2e59392d-1872-4ad4-b90c-755a6d4226c7',\n",
       " 'd7f6466e-ecb4-49fc-9a6b-e5d8775710b5',\n",
       " 'e40461e1-998b-4cdf-8f1e-3f2b9e861955',\n",
       " '83ec76bc-770a-4e56-91a1-01fc21d951a8',\n",
       " 'a0c3f19b-327b-4804-90ba-4906ee98790a',\n",
       " '520eed03-dbdb-4abf-b75e-455e9314145d',\n",
       " 'fdb87386-d642-4a85-b78d-152bcda97939',\n",
       " '9c49fe71-20d2-4262-b268-d3a4ae4753b4',\n",
       " 'b456a8be-8cc5-4a8c-9d48-62173493bd36',\n",
       " 'dcd36660-96f7-44f5-ba70-0e0fbfed3689',\n",
       " '9fdfa937-692a-4350-a8e5-cc712310ac6a',\n",
       " 'e8b4ddd4-50fd-4623-b929-89b944cf188c',\n",
       " '30bd5116-712b-48d9-a2f6-f44476fe1cd2',\n",
       " 'db1dfcd7-a086-4204-aedc-b6736cc443ee',\n",
       " '7f625119-2b62-4ebd-aa44-a3cbc87edec3',\n",
       " '86be8d0a-b02a-4ab3-93bb-f558271b9b05',\n",
       " 'c9d9b207-88b7-4d2d-a46f-2b3661ae6bcc',\n",
       " 'cd98fdad-9824-4e98-b0e4-c240d07493f7',\n",
       " 'a3efc65d-bc28-41a9-b9df-6b9b8c0176f4',\n",
       " '680be526-263d-4a7d-a2c9-e567c2e1ef7b',\n",
       " 'e0b0998e-1c35-44af-8d65-93a0544bdf7c',\n",
       " '207e4392-3eb8-4458-9002-cd058a37e887',\n",
       " '134c54b8-0fd1-483f-8fc7-e723a6acf589',\n",
       " '08efd334-289c-4fac-8ba2-398dfbb81bf5',\n",
       " '6fc214bb-28dc-461a-957b-54172f915f6f',\n",
       " 'eff351e6-f4fb-4c81-b112-32a46637056b',\n",
       " '51baae34-fc3e-41bb-8978-529326ad90cf',\n",
       " 'e4122133-a0c7-4a1f-9aa1-285b0123bc2b']"
      ]
     },
     "execution_count": 49,
     "metadata": {},
     "output_type": "execute_result"
    }
   ],
   "source": [
    "# vector storage \n",
    "\n",
    "index = faiss.IndexFlatL2(len(embeddings.embed_query(\"hello world\")))\n",
    "\n",
    "vector_store = FAISS(\n",
    "    embedding_function=embeddings,\n",
    "    index=index,\n",
    "    docstore=InMemoryDocstore(),\n",
    "    index_to_docstore_id={},\n",
    "    )\n",
    "\n",
    "vector_store.add_documents(documents=texts)"
   ]
  },
  {
   "cell_type": "code",
   "execution_count": 50,
   "id": "ab3b2683",
   "metadata": {},
   "outputs": [
    {
     "name": "stdout",
     "output_type": "stream",
     "text": [
      "Automatic history management​\n",
      "The previous examples pass messages to the chain (and model) explicitly. This is a completely acceptable approach, but it does require external management of new messages. LangChain also provides a way to build applications that have memory using LangGraph's persistence. You can enable persistence in LangGraph applications by providing a checkpointer when compiling the graph.\n"
     ]
    }
   ],
   "source": [
    "query =\"Automatic history management\"\n",
    "print(vector_store.similarity_search(query)[0].page_content)"
   ]
  },
  {
   "cell_type": "code",
   "execution_count": 51,
   "id": "4971ab55",
   "metadata": {},
   "outputs": [
    {
     "data": {
      "text/plain": [
       "[Document(id='ca8d2e2b-eba0-4152-87c2-8eeac9ac3371', metadata={'source': 'https://python.langchain.com/docs/how_to/chatbots_memory/', 'title': 'How to add memory to chatbots | 🦜️🔗 LangChain', 'description': 'A key feature of chatbots is their ability to use the content of previous conversational turns as context. This state management can take several forms, including:', 'language': 'en'}, page_content=\"Automatic history management\\u200b\\nThe previous examples pass messages to the chain (and model) explicitly. This is a completely acceptable approach, but it does require external management of new messages. LangChain also provides a way to build applications that have memory using LangGraph's persistence. You can enable persistence in LangGraph applications by providing a checkpointer when compiling the graph.\"),\n",
       " Document(id='e4122133-a0c7-4a1f-9aa1-285b0123bc2b', metadata={'source': 'https://python.langchain.com/docs/how_to/chatbots_memory/', 'title': 'How to add memory to chatbots | 🦜️🔗 LangChain', 'description': 'A key feature of chatbots is their ability to use the content of previous conversational turns as context. This state management can take several forms, including:', 'language': 'en'}, page_content='Note that invoking the app again will keep accumulating the history until it reaches the specified number of messages (four in our case). At that point we will generate another summary generated from the initial summary plus new messages and so on.Edit this pagePreviousHow to use a vectorstore as a retrieverNextHow to use example selectorsSetupMessage passingAutomatic history managementModifying chat historyTrimming messagesSummary memoryCommunityLangChain ForumTwitterGitHubOrganizationPythonJS/TSMoreHomepageBlogYouTubeCopyright © 2025 LangChain, Inc.'),\n",
       " Document(id='520eed03-dbdb-4abf-b75e-455e9314145d', metadata={'source': 'https://python.langchain.com/docs/how_to/chatbots_memory/', 'title': 'How to add memory to chatbots | 🦜️🔗 LangChain', 'description': 'A key feature of chatbots is their ability to use the content of previous conversational turns as context. This state management can take several forms, including:', 'language': 'en'}, page_content=\"Modifying chat history\\u200b\\nModifying stored chat messages can help your chatbot handle a variety of situations. Here are some examples:\\nTrimming messages\\u200b\\nLLMs and chat models have limited context windows, and even if you're not directly hitting limits, you may want to limit the amount of distraction the model has to deal with. One solution is trim the history messages before passing them to the model. Let's use an example history with the app we declared above:\"),\n",
       " Document(id='1d1656b0-458f-45b2-b664-2ddc44bf7c37', metadata={'source': 'https://python.langchain.com/docs/how_to/chatbots_memory/', 'title': 'How to add memory to chatbots | 🦜️🔗 LangChain', 'description': 'A key feature of chatbots is their ability to use the content of previous conversational turns as context. This state management can take several forms, including:', 'language': 'en'}, page_content='I said, \"I love programming\" in French: \"J\\'adore la programmation.\"\\nWe can see that by passing the previous conversation into a chain, it can use it as context to answer questions. This is the basic concept underpinning chatbot memory - the rest of the guide will demonstrate convenient techniques for passing or reformatting messages.\\nAutomatic history management\\u200b')]"
      ]
     },
     "execution_count": 51,
     "metadata": {},
     "output_type": "execute_result"
    }
   ],
   "source": [
    "retriver = vector_store.as_retriever()\n",
    "retriver.invoke(query)"
   ]
  },
  {
   "cell_type": "code",
   "execution_count": 56,
   "id": "a2c13c2b",
   "metadata": {},
   "outputs": [
    {
     "data": {
      "text/plain": [
       "RunnableBinding(bound=RunnableBinding(bound=RunnableAssign(mapper={\n",
       "  context: RunnableLambda(format_docs)\n",
       "}), kwargs={}, config={'run_name': 'format_inputs'}, config_factories=[])\n",
       "| ChatPromptTemplate(input_variables=['context', 'question'], input_types={}, partial_variables={}, messages=[HumanMessagePromptTemplate(prompt=PromptTemplate(input_variables=['context', 'question'], input_types={}, partial_variables={}, template='\\nYou are a helpful assistant. Given the following context, answer the question.\\n\\nContext:\\n{context}\\n\\nQuestion: {question}\\n'), additional_kwargs={})])\n",
       "| ChatGoogleGenerativeAI(model='models/gemini-2.0-flash', google_api_key=SecretStr('**********'), client=<google.ai.generativelanguage_v1beta.services.generative_service.client.GenerativeServiceClient object at 0x7a3f50277ef0>, default_metadata=(), model_kwargs={})\n",
       "| StrOutputParser(), kwargs={}, config={'run_name': 'stuff_documents_chain'}, config_factories=[])"
      ]
     },
     "execution_count": 56,
     "metadata": {},
     "output_type": "execute_result"
    }
   ],
   "source": [
    "# This chain takes a list of documents and formats them all into a prompt, then passes that prompt to an LLM. \n",
    "\n",
    "\n",
    "from langchain.chains.combine_documents import create_stuff_documents_chain\n",
    "\n",
    "from langchain_core.prompts import ChatPromptTemplate\n",
    "# 2. Create a prompt template\n",
    "prompt = ChatPromptTemplate.from_template(\"\"\"\n",
    "You are a helpful assistant. Given the following context, answer the question.\n",
    "\n",
    "Context:\n",
    "{context}\n",
    "\n",
    "Question: {question}\n",
    "\"\"\")\n",
    "\n",
    "# prompt = ChatPromptTemplate([\n",
    "#     (\"system\",\"your assitance\")\n",
    "# ])\n",
    "\n",
    "chain = create_stuff_documents_chain(llm,prompt)\n",
    "chain"
   ]
  },
  {
   "cell_type": "code",
   "execution_count": 54,
   "id": "a9b025a8",
   "metadata": {},
   "outputs": [],
   "source": [
    "# 5. Run the chain\n",
    "response = chain.invoke({\n",
    "    \"question\": \"what is Automatic history management\",\n",
    "    \"context\": retriver.invoke(query)\n",
    "})\n"
   ]
  },
  {
   "cell_type": "code",
   "execution_count": 55,
   "id": "eee9422d",
   "metadata": {},
   "outputs": [
    {
     "name": "stdout",
     "output_type": "stream",
     "text": [
      "Automatic history management in LangChain refers to the ability to build applications with memory using LangGraph's persistence. This allows the application to automatically keep track of and manage the history of messages, accumulating them until a specified number is reached. When the limit is reached, a summary of the history is generated and used to continue the conversation. This is enabled by providing a checkpointer when compiling the graph.\n"
     ]
    }
   ],
   "source": [
    "print(response)"
   ]
  },
  {
   "cell_type": "code",
   "execution_count": null,
   "id": "f1e5cdf6",
   "metadata": {},
   "outputs": [],
   "source": []
  }
 ],
 "metadata": {
  "kernelspec": {
   "display_name": "venv",
   "language": "python",
   "name": "python3"
  },
  "language_info": {
   "codemirror_mode": {
    "name": "ipython",
    "version": 3
   },
   "file_extension": ".py",
   "mimetype": "text/x-python",
   "name": "python",
   "nbconvert_exporter": "python",
   "pygments_lexer": "ipython3",
   "version": "3.12.4"
  }
 },
 "nbformat": 4,
 "nbformat_minor": 5
}
