{
 "cells": [
  {
   "cell_type": "code",
   "execution_count": 36,
   "id": "208126ad",
   "metadata": {},
   "outputs": [],
   "source": [
    "# How to add chat history in Conversional Question & Answer\n",
    "\n",
    "# https://python.langchain.com/v0.2/docs/how_to/qa_chat_history_how_to/\n",
    "\n",
    "\n",
    "import os\n",
    "from langchain_groq import ChatGroq\n",
    "from langchain_huggingface import HuggingFaceEmbeddings\n",
    "import bs4\n",
    "from langchain_chroma import Chroma\n",
    "from langchain_community.document_loaders import WebBaseLoader\n",
    "from langchain_core.output_parsers import StrOutputParser\n",
    "from langchain_core.prompts import ChatPromptTemplate,MessagesPlaceholder\n",
    "import bs4\n",
    "from langchain.chains import create_history_aware_retriever, create_retrieval_chain\n",
    "from langchain.chains.combine_documents import create_stuff_documents_chain\n",
    "from langchain_community.chat_message_histories import ChatMessageHistory\n",
    "from langchain_core.chat_history import BaseChatMessageHistory\n",
    "from langchain_core.runnables.history import RunnableWithMessageHistory\n",
    "from langchain_core.runnables import RunnablePassthrough\n",
    "from langchain_text_splitters import RecursiveCharacterTextSplitter\n",
    "\n",
    "\n",
    "#  chains as runnables\n",
    "\n",
    "\n",
    "\n",
    "# loading env varables\n",
    "from dotenv import load_dotenv\n",
    "load_dotenv()\n",
    "\n",
    "\n",
    "\n",
    "# load environment variables\n",
    "os.environ[\"GROQ_API_KEY\"] = os.getenv(\"GROQ_API_KEY\")\n",
    "\n",
    "\n",
    "# llm model\n",
    "llm = ChatGroq(model=\"llama-3.1-8b-instant\")\n",
    "\n",
    "# embedding model\n",
    "embeddings = HuggingFaceEmbeddings(model_name=\"sentence-transformers/all-MiniLM-L6-v2\",show_progress= True)\n",
    "\n",
    "\n",
    "\n",
    "loader = WebBaseLoader(\n",
    "    web_paths=(\"https://lilianweng.github.io/posts/2023-06-23-agent/\",),\n",
    "    bs_kwargs=dict(\n",
    "        parse_only=bs4.SoupStrainer(\n",
    "            class_=(\"post-content\", \"post-title\", \"post-header\")\n",
    "        )\n",
    "    ),\n",
    ")\n",
    "docs = loader.load()\n",
    "\n",
    "# st.write(docs)\n",
    "\n",
    "\n"
   ]
  },
  {
   "cell_type": "code",
   "execution_count": 3,
   "id": "0807f388",
   "metadata": {},
   "outputs": [
    {
     "name": "stderr",
     "output_type": "stream",
     "text": [
      "Batches: 100%|██████████| 2/2 [00:06<00:00,  3.11s/it]\n"
     ]
    }
   ],
   "source": [
    "text_splitter = RecursiveCharacterTextSplitter(chunk_size=1000, chunk_overlap=200)\n",
    "splits = text_splitter.split_documents(docs)\n",
    "vectorstore = Chroma.from_documents(documents=splits, embedding=embeddings)\n",
    "retriever = vectorstore.as_retriever()\n",
    "\n",
    "\n",
    "# vector_store = Chroma(\n",
    "#     collection_name=\"embedding_collection\",\n",
    "#     embedding_function=embeddings,\n",
    "#     persist_directory=\"./chroma_db\",  # Where to save data locally, remove if not necessary\n",
    "# )\n",
    "# vector_store.add_documents(documents=docs)\n",
    "# retriever = vectorstore.as_retriever()"
   ]
  },
  {
   "cell_type": "markdown",
   "id": "49cc2ebd",
   "metadata": {},
   "source": []
  },
  {
   "cell_type": "code",
   "execution_count": 4,
   "id": "b690ba2d",
   "metadata": {},
   "outputs": [
    {
     "data": {
      "text/plain": [
       "63"
      ]
     },
     "execution_count": 4,
     "metadata": {},
     "output_type": "execute_result"
    }
   ],
   "source": [
    "len(vectorstore.get()[\"ids\"])"
   ]
  },
  {
   "cell_type": "code",
   "execution_count": 38,
   "id": "8eaac626",
   "metadata": {},
   "outputs": [],
   "source": [
    "\n",
    "\n",
    "\n",
    "### Contextualize question ###\n",
    "contextualize_q_system_prompt = (\n",
    "    \"Given a chat history and the latest user question \"\n",
    "    \"which might reference context in the chat history, \"\n",
    "    \"formulate a standalone question which can be understood \"\n",
    "    \"without the chat history. Do NOT answer the question, \"\n",
    "    \"just reformulate it if needed and otherwise return it as is.\"\n",
    ")\n",
    "contextualize_q_prompt = ChatPromptTemplate.from_messages(\n",
    "    [\n",
    "        (\"system\", contextualize_q_system_prompt),\n",
    "        MessagesPlaceholder(\"chat_history\"),\n",
    "        (\"human\", \"{input}\"),\n",
    "    ]\n",
    ")\n",
    "\n",
    "\n",
    "\n",
    "history_aware_retriever = create_history_aware_retriever(\n",
    "    llm, retriever, contextualize_q_prompt\n",
    ")\n",
    "\n",
    "\n",
    "\n",
    "\n",
    "### Answer question ###\n",
    "system_prompt = (\n",
    "    \"You are an assistant for question-answering tasks. \"\n",
    "    \"Use the following pieces of retrieved context to answer \"\n",
    "    \"the question. If you don't know the answer, say that you \"\n",
    "    \"don't know. Use three sentences maximum and keep the \"\n",
    "    \"answer concise.\"\n",
    "    \"\\n\\n\"\n",
    "    \"{context}\"\n",
    ")\n",
    "qa_prompt = ChatPromptTemplate.from_messages(\n",
    "    [\n",
    "        (\"system\", system_prompt),\n",
    "        MessagesPlaceholder(\"chat_history\"),\n",
    "        (\"human\", \"{input}\"),\n",
    "    ]\n",
    ")\n",
    "\n",
    "question_answer_chain = create_stuff_documents_chain(llm, qa_prompt)\n",
    "rag_chain = create_retrieval_chain(history_aware_retriever, question_answer_chain)"
   ]
  },
  {
   "cell_type": "code",
   "execution_count": 39,
   "id": "5bb3b3b8",
   "metadata": {},
   "outputs": [],
   "source": [
    "\n",
    "### Statefully manage chat history ###\n",
    "store = {}\n",
    "\n",
    "\n",
    "def get_session_history(session_id: str) -> BaseChatMessageHistory:\n",
    "    if session_id not in store:\n",
    "        store[session_id] = ChatMessageHistory()\n",
    "    return store[session_id]\n",
    "\n",
    "\n",
    "conversational_rag_chain = RunnableWithMessageHistory(\n",
    "    rag_chain,\n",
    "    get_session_history,\n",
    "    input_messages_key=\"input\",\n",
    "    history_messages_key=\"chat_history\",\n",
    "    output_messages_key=\"answer\",\n",
    ")"
   ]
  },
  {
   "cell_type": "code",
   "execution_count": 40,
   "id": "a84a0b41",
   "metadata": {},
   "outputs": [
    {
     "name": "stderr",
     "output_type": "stream",
     "text": [
      "Batches: 100%|██████████| 1/1 [00:00<00:00, 20.43it/s]\n"
     ]
    },
    {
     "data": {
      "text/plain": [
       "'The Agent System Overview refers to a high-level description of a LLM-powered autonomous agent system, which consists of several key components, including:\\n\\n1. Planning: breaking down large tasks into smaller subgoals and handling complex tasks efficiently.\\n2. Reflection and refinement: self-criticism, self-reflection, learning from mistakes, and refining past actions for future steps.\\n\\nThese components work together to enable the agent to perform tasks, solve problems, and improve its performance over time.'"
      ]
     },
     "execution_count": 40,
     "metadata": {},
     "output_type": "execute_result"
    }
   ],
   "source": [
    "conversational_rag_chain.invoke(\n",
    "    {\"input\": \"what is  Agent System Overview?\"},\n",
    "    config={\n",
    "        \"configurable\": {\"session_id\": \"abc123\"}\n",
    "    },  # constructs a key \"abc123\" in `store`.\n",
    ")[\"answer\"]"
   ]
  },
  {
   "cell_type": "code",
   "execution_count": 41,
   "id": "83ad8e8c",
   "metadata": {},
   "outputs": [
    {
     "name": "stderr",
     "output_type": "stream",
     "text": [
      "Batches: 100%|██████████| 1/1 [00:00<00:00,  9.00it/s]\n"
     ]
    },
    {
     "data": {
      "text/plain": [
       "'The key components involved in the Agent System Overview are:\\n\\n1. Planning: can be done through subgoal and decomposition, reflection and refinement, and task-specific instructions.\\n2. Memory: can be managed through task decomposition, human inputs, or using an external classical planner.\\n3. Planning & Reacting: translating reflections and environment information into actions.\\n\\nExamples of prompts to achieve these components include:\\n\\n- Subgoal and decomposition: \"Steps for XYZ.\\\\n1.\"\\n- Reflection and refinement: asking the LLM to generate high-level questions and answer them.\\n- Memory management: using task-specific instructions or human inputs.\\n- Planning & Reacting: translating the reflections and environment information into actions.'"
      ]
     },
     "execution_count": 41,
     "metadata": {},
     "output_type": "execute_result"
    }
   ],
   "source": [
    "conversational_rag_chain.invoke(\n",
    "    {\"input\": \"how we do this?\"},\n",
    "    config={\n",
    "        \"configurable\": {\"session_id\": \"abc123\"}\n",
    "    },  # constructs a key \"abc123\" in `store`.\n",
    ")[\"answer\"]\n",
    "# message = retriever.invoke(\"what is  Agent System Overview?\")\n",
    "# contextualize_q_prompt.invoke({\"input\":\"what is Agent System Overview?\",\"context\":message})"
   ]
  },
  {
   "cell_type": "code",
   "execution_count": null,
   "id": "868b4f97",
   "metadata": {},
   "outputs": [
    {
     "name": "stderr",
     "output_type": "stream",
     "text": [
      "Batches: 100%|██████████| 1/1 [00:00<00:00, 28.14it/s]\n"
     ]
    }
   ],
   "source": [
    "# combine_docs_chain = create_stuff_documents_chain(llm, contextualize_q_prompt)\n",
    "# retrieval_chain = create_retrieval_chain(retriever, combine_docs_chain) \n",
    "# result = retrieval_chain.invoke({\"input\":\"what is Agent System Overview?\"})\n",
    "# print(result[\"answer\"])"
   ]
  },
  {
   "cell_type": "code",
   "execution_count": 33,
   "id": "cfe28667",
   "metadata": {},
   "outputs": [],
   "source": [
    "# from langchain_core.runnables import (\n",
    "#             RunnableParallel,\n",
    "#         )\n",
    "\n",
    "# chain =  RunnableParallel({\"input\":RunnablePassthrough(),\"context\": retriever }) | contextualize_q_prompt | llm | StrOutputParser()\n",
    "# print(chain.invoke(\"what is Agent System Overview?\"))"
   ]
  },
  {
   "cell_type": "code",
   "execution_count": 48,
   "id": "ff408ce7",
   "metadata": {},
   "outputs": [
    {
     "name": "stdout",
     "output_type": "stream",
     "text": [
      "Human: what is  Agent System Overview?\n",
      "AI: The Agent System Overview refers to a high-level description of a LLM-powered autonomous agent system, which consists of several key components, including:\n",
      "\n",
      "1. Planning: breaking down large tasks into smaller subgoals and handling complex tasks efficiently.\n",
      "2. Reflection and refinement: self-criticism, self-reflection, learning from mistakes, and refining past actions for future steps.\n",
      "\n",
      "These components work together to enable the agent to perform tasks, solve problems, and improve its performance over time.\n",
      "Human: how we do this?\n",
      "AI: The key components involved in the Agent System Overview are:\n",
      "\n",
      "1. Planning: can be done through subgoal and decomposition, reflection and refinement, and task-specific instructions.\n",
      "2. Memory: can be managed through task decomposition, human inputs, or using an external classical planner.\n",
      "3. Planning & Reacting: translating reflections and environment information into actions.\n",
      "\n",
      "Examples of prompts to achieve these components include:\n",
      "\n",
      "- Subgoal and decomposition: \"Steps for XYZ.\\n1.\"\n",
      "- Reflection and refinement: asking the LLM to generate high-level questions and answer them.\n",
      "- Memory management: using task-specific instructions or human inputs.\n",
      "- Planning & Reacting: translating the reflections and environment information into actions.\n"
     ]
    }
   ],
   "source": [
    "print(store[\"abc123\"])"
   ]
  },
  {
   "cell_type": "code",
   "execution_count": null,
   "id": "dd5a3319",
   "metadata": {},
   "outputs": [],
   "source": []
  }
 ],
 "metadata": {
  "kernelspec": {
   "display_name": "venv",
   "language": "python",
   "name": "python3"
  },
  "language_info": {
   "codemirror_mode": {
    "name": "ipython",
    "version": 3
   },
   "file_extension": ".py",
   "mimetype": "text/x-python",
   "name": "python",
   "nbconvert_exporter": "python",
   "pygments_lexer": "ipython3",
   "version": "3.12.4"
  }
 },
 "nbformat": 4,
 "nbformat_minor": 5
}
